{
 "cells": [
  {
   "cell_type": "markdown",
   "source": [
    "## Cross on Dielectric Substrate\n",
    "This example is also taken from the paper by Alon S. Barlevy and\n",
    "Yahya Rahmat-Samii, \"Fundamental Constraints on the Electrical Characteristics\n",
    "of Frequency Selective Surfaces\", **Electromagnetics**, vol. 17, 1997, pp. 41-68.\n",
    "This particular example is from Section 3.2, Figures 7 and 8.  It also appeared at\n",
    "higher resolution in Barlevy's PhD dissertation from which the comparison curves\n",
    "were digitized.\n",
    "\n",
    "We use the `loadedcross` element where we choose `w > L2/2`, so that the Cross\n",
    "is \"unloaded\", i.e. the center section is filled in with metalization:"
   ],
   "metadata": {
    "name": "A slide ",
    "slideshow": {
     "slide_type": "subslide"
    }
   }
  },
  {
   "outputs": [],
   "cell_type": "code",
   "source": [
    "using Plots, PSSFSS, DelimitedFiles\n",
    "sheet = loadedcross(w=1.0, L1=0.6875, L2=0.0625, s1=[1.0,0.0],\n",
    "                    s2=[0.0,1.0], ntri=600, units=cm)\n",
    "plot(sheet, unitcell=true)"
   ],
   "metadata": {},
   "execution_count": null
  },
  {
   "cell_type": "markdown",
   "source": [
    "A few things to note. First, the mesh is **unstructured**.  So there are no redundant\n",
    "triangle face-pairs that PSSFSS can exploit to reduce execution time.  Second, the\n",
    "number of triangle faces generated is only approximately equal to the requested value\n",
    "of 600.  This can be verified by entering the Julia variable `sheet` at the\n",
    "[REPL](https://docs.julialang.org/en/v1/manual/getting-started/#man-getting-started)\n",
    "(i.e. the Julia prompt):"
   ],
   "metadata": {}
  },
  {
   "outputs": [],
   "cell_type": "code",
   "source": [
    "sheet"
   ],
   "metadata": {},
   "execution_count": null
  },
  {
   "cell_type": "markdown",
   "source": [
    "The cross FSS is etched on a dielectric sheet of thickness 3 mm.  The dielectric\n",
    "constant is varied over the values 1, 2, and 4 to observe the effect on the resonant\n",
    "frequency.  Following the reference, the list of analysis frequencies is varied slightly\n",
    "depending on the value of dielectric constant:"
   ],
   "metadata": {}
  },
  {
   "outputs": [],
   "cell_type": "code",
   "source": [
    "resultsstack = Any[]\n",
    "steering = (ϕ=0, θ=0)\n",
    "for eps in [1, 2, 4]\n",
    "    strata = [  Layer()\n",
    "                sheet\n",
    "                Layer(ϵᵣ=eps, width=3mm)\n",
    "                Layer()\n",
    "             ]\n",
    "    if eps == 1\n",
    "        flist = 1:0.2:30\n",
    "    elseif eps == 2\n",
    "        flist = 1:0.2:26\n",
    "    else\n",
    "        flist = 1:0.2:20\n",
    "    end\n",
    "    results = analyze(strata, flist, steering, showprogress=false,\n",
    "                      resultfile=devnull, logfile=devnull)\n",
    "    push!(resultsstack, results)\n",
    "end"
   ],
   "metadata": {},
   "execution_count": null
  },
  {
   "cell_type": "markdown",
   "source": [
    "The above loop requires about 80 seconds of execution time on my machine.\n",
    "Compare PSSFSS results to those digitized from the dissertation figure:"
   ],
   "metadata": {}
  },
  {
   "outputs": [],
   "cell_type": "code",
   "source": [
    "col=[:red,:blue,:green]\n",
    "p = plot(xlim=(0.,30), xtick = 0:5:30, ylim=(0,1), ytick=0:0.1:1,\n",
    "         xlabel=\"Frequency (GHz)\", ylabel=\"Reflection Coefficient Magnitude\",\n",
    "         legend=:topleft, lw=2)\n",
    "for (i,eps) in enumerate([1,2,4])\n",
    "    data = extract_result(resultsstack[i],  @outputs FGHz s11mag(v,v))\n",
    "    plot!(p, data[:,1], data[:,2], label=\"PSSFSS ϵᵣ = $eps\", lc=col[i])\n",
    "    data = readdlm(\"../src/assets/barlevy_diss_eps$(eps).csv\", ',')\n",
    "    plot!(p, data[:,1], data[:,2], label=\"Barlevy ϵᵣ = $eps\", lc=col[i], ls=:dot)\n",
    "end\n",
    "p"
   ],
   "metadata": {},
   "execution_count": null
  },
  {
   "cell_type": "markdown",
   "source": [
    "### Conclusion\n",
    "PSSFSS results agree very well with those of the cited reference, especially when\n",
    "accounting for the fact that the reference results are obtained by digitizing a\n",
    "scanned figure."
   ],
   "metadata": {}
  },
  {
   "cell_type": "markdown",
   "source": [
    "---\n",
    "\n",
    "*This notebook was generated using [Literate.jl](https://github.com/fredrikekre/Literate.jl).*"
   ],
   "metadata": {}
  }
 ],
 "nbformat_minor": 3,
 "metadata": {
  "language_info": {
   "file_extension": ".jl",
   "mimetype": "application/julia",
   "name": "julia",
   "version": "1.6.1"
  },
  "kernelspec": {
   "name": "julia-1.6",
   "display_name": "Julia 1.6.1",
   "language": "julia"
  }
 },
 "nbformat": 4
}
