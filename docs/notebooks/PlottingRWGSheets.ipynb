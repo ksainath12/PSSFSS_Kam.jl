{
 "cells": [
  {
   "cell_type": "code",
   "execution_count": null,
   "metadata": {
    "slideshow": {
     "slide_type": "skip"
    }
   },
   "outputs": [],
   "source": [
    "#using Pkg\n",
    "#Pkg.activate(\"../\")\n",
    "#Pkg.instantiate()\n",
    "using PSSFSS\n",
    "using Plots\n",
    "default(framestyle=:box)\n",
    "plot(1:10)"
   ]
  },
  {
   "cell_type": "markdown",
   "metadata": {
    "slideshow": {
     "slide_type": "slide"
    }
   },
   "source": [
    "# Elements Available in PSSFSS\n",
    "This Jupyter notebook illustrates the styles of Frequency Selective Surface (FSS) and Polarization Selective Surface (PSS) elements that are available in the `PSSFSS` package.  Because the package includes a `Plots` recipe, the `Plots.plot` function automatically knows how to plot a variable of type `RWGSheet` that is returned by any of the constructor functions illustrated beow. As shown below, additional keywords are supported by the `plot` function that allow control of edge and/or face colors, inclusion of the unit cell boundary in the plot, and repetition of the unit cell to visualize the element in its arrayed environment."
   ]
  },
  {
   "cell_type": "markdown",
   "metadata": {
    "slideshow": {
     "slide_type": "slide"
    }
   },
   "source": [
    "Help is available for any of the element types shown below, by typing, e.g.\n",
    "\n",
    "```julia\n",
    "?rectstrip\n",
    "```\n",
    "\n",
    "at the Julia prompt."
   ]
  },
  {
   "cell_type": "markdown",
   "metadata": {
    "slideshow": {
     "slide_type": "slide"
    }
   },
   "source": [
    "## RECTSTRIP: Rectangular Strip\n",
    "This element is typically used to model polarization grids, but it can also be\n",
    "used for rectangular or square FSS elements.  It uses a structured mesh so `fufp` defaults to `true`."
   ]
  },
  {
   "cell_type": "code",
   "execution_count": null,
   "metadata": {
    "slideshow": {
     "slide_type": "fragment"
    }
   },
   "outputs": [],
   "source": [
    "sheet = rectstrip(Lx=1, Ly=0.2, Px=1, Py=0.4, Nx=15, Ny=3, units=mm)\n",
    "println(\"$(size(sheet.fv,2)) triangles\")\n",
    "plot(sheet)"
   ]
  },
  {
   "cell_type": "markdown",
   "metadata": {
    "slideshow": {
     "slide_type": "subslide"
    }
   },
   "source": [
    "The above plot of the triangulation edges is useful, but a better visualation includes the unit cell boundary, adds color to the edges, and displays multiple adjacent unit cells:"
   ]
  },
  {
   "cell_type": "code",
   "execution_count": null,
   "metadata": {
    "slideshow": {
     "slide_type": "fragment"
    }
   },
   "outputs": [],
   "source": [
    "plot(sheet, linecolor=:green, unitcell=true, rep=(4,5))"
   ]
  },
  {
   "cell_type": "markdown",
   "metadata": {
    "slideshow": {
     "slide_type": "subslide"
    }
   },
   "source": [
    "Below, we show how a `rectstrip` can be used to model a square FSS element:"
   ]
  },
  {
   "cell_type": "code",
   "execution_count": null,
   "metadata": {
    "slideshow": {
     "slide_type": "fragment"
    }
   },
   "outputs": [],
   "source": [
    "sheet = rectstrip(Lx=0.9, Ly=0.9, Px=1.1, Py=1.1, Nx=15, Ny=15, units=mm)\n",
    "println(\"$(size(sheet.fv,2)) triangles\")\n",
    "plot(sheet, linecolor=:green, unitcell=true)"
   ]
  },
  {
   "cell_type": "markdown",
   "metadata": {
    "slideshow": {
     "slide_type": "slide"
    }
   },
   "source": [
    "## POLYRING: A Very Versatile Element\n",
    "The first example shows how to model concentric square loops."
   ]
  },
  {
   "cell_type": "code",
   "execution_count": null,
   "metadata": {
    "slideshow": {
     "slide_type": "fragment"
    }
   },
   "outputs": [],
   "source": [
    "sheet = polyring(s1=[1,0], s2=[0,1], a=[0.2, 0.45], b=[0.35, 0.55], sides=4, orient = 45,\n",
    "                 units=cm, ntri=800)\n",
    "println(\"$(size(sheet.fv,2)) triangles\")\n",
    "plot(sheet, linecolor=:red, unitcell=true)"
   ]
  },
  {
   "cell_type": "markdown",
   "metadata": {
    "slideshow": {
     "slide_type": "subslide"
    }
   },
   "source": [
    "Next, we have an octagonal hole, and an octagonal, annular slot.  Such a geometry could be more efficiently modeled\n",
    "by making use of a sheet of class `M`, and triangulating the complementary\n",
    "(smaller in area) region to that shown below.  However, \n",
    "if one needs to model this type of inductive element while \n",
    "including the surface resistance of the sheet, \n",
    "this can only be done using a sheet of class `J` (the default)"
   ]
  },
  {
   "cell_type": "code",
   "execution_count": null,
   "metadata": {
    "slideshow": {
     "slide_type": "fragment"
    }
   },
   "outputs": [],
   "source": [
    "sheet = polyring(s1=[1,0], s2=[0,1], a=[0.2, 0.5], b=[0.35, -25], sides=8, orient=22.5, \n",
    "                 units=cm, ntri=400)\n",
    "println(\"$(size(sheet.fv,2)) triangles\")\n",
    "plot(sheet, linecolor=:red, rep=(2,2), unitcell=true)"
   ]
  },
  {
   "cell_type": "markdown",
   "metadata": {
    "slideshow": {
     "slide_type": "subslide"
    }
   },
   "source": [
    "Below we approximate a circular loop using a 32-sided polygonal annulus. The \n",
    "lattice vectors are chosen to represent a close-packed (hexagonal) arrangement."
   ]
  },
  {
   "cell_type": "code",
   "execution_count": null,
   "metadata": {
    "slideshow": {
     "slide_type": "fragment"
    }
   },
   "outputs": [],
   "source": [
    "sheet = polyring(s1=[1, 0], s2=[0.5, √3/2], a=[0.3], b=[0.45], sides=32, \n",
    "                 units=cm, ntri=400)\n",
    "println(\"$(size(sheet.fv,2)) triangles\")\n",
    "plot(sheet, edges=false, faces=true, unitcell=true)"
   ]
  },
  {
   "cell_type": "markdown",
   "metadata": {
    "slideshow": {
     "slide_type": "subslide"
    }
   },
   "source": [
    "We illustrate the hexagonal arrangement by replicating 3 unit cells in each principal direction."
   ]
  },
  {
   "cell_type": "code",
   "execution_count": null,
   "metadata": {
    "slideshow": {
     "slide_type": "fragment"
    }
   },
   "outputs": [],
   "source": [
    "plot(sheet, linecolor=:blue, rep=(3,3), unitcell=true)"
   ]
  },
  {
   "cell_type": "markdown",
   "metadata": {
    "slideshow": {
     "slide_type": "slide"
    }
   },
   "source": [
    "## MEANDER: Used to model meanderline polarizers.\n",
    "This is another element that employs a structured mesh, so that `fufp` defaults to `true` for this element style."
   ]
  },
  {
   "cell_type": "code",
   "execution_count": null,
   "metadata": {
    "slideshow": {
     "slide_type": "fragment"
    }
   },
   "outputs": [],
   "source": [
    "sheet = meander(a=72, b=300, h=114, w1=6, w2=6, units=mil, ntri=300) \n",
    "println(\"$(size(sheet.fv,2)) triangles\")\n",
    "plot(sheet, linecolor=:green, unitcell=true, xlim=(-10,80))"
   ]
  },
  {
   "cell_type": "markdown",
   "metadata": {
    "slideshow": {
     "slide_type": "slide"
    }
   },
   "source": [
    "The meanderline is typically rotated $45^\\circ$ as shown below."
   ]
  },
  {
   "cell_type": "code",
   "execution_count": null,
   "metadata": {
    "slideshow": {
     "slide_type": "fragment"
    }
   },
   "outputs": [],
   "source": [
    "sheet = meander(a=72, b=300, h=114, w1=6, w2=6, units=mil, ntri=300, rot=45) \n",
    "println(\"$(size(sheet.fv,2)) triangles\")\n",
    "plot(sheet, linecolor=:green, rep=(5,3))"
   ]
  },
  {
   "cell_type": "markdown",
   "metadata": {
    "slideshow": {
     "slide_type": "slide"
    }
   },
   "source": [
    "## LOADEDCROSS\n",
    "\n",
    "Another useful element, shown in the next few figures, is the `loadedcross`, which as you can see in the first figure, does not actually have to be loaded."
   ]
  },
  {
   "cell_type": "code",
   "execution_count": null,
   "metadata": {
    "slideshow": {
     "slide_type": "fragment"
    }
   },
   "outputs": [],
   "source": [
    "sheet = loadedcross(s1=[1,0], s2=[0,1], L1=0.9, L2=0.2, w=0.35, units=cm, ntri=300) \n",
    "println(\"$(size(sheet.fv,2)) triangles\")\n",
    "plot(sheet, linecolor=:green, unitcell=true)"
   ]
  },
  {
   "cell_type": "markdown",
   "metadata": {
    "slideshow": {
     "slide_type": "subslide"
    }
   },
   "source": [
    "Proper choice of the geometrical parameters `w` and `L2` exposes the \"loaded\" area."
   ]
  },
  {
   "cell_type": "code",
   "execution_count": null,
   "metadata": {
    "slideshow": {
     "slide_type": "fragment"
    }
   },
   "outputs": [],
   "source": [
    "sheet = loadedcross(s1=[1,0], s2=[0,1], L1=0.9, L2=0.25, w=0.1, units=cm, ntri=400)\n",
    "println(\"$(size(sheet.fv,2)) triangles\")\n",
    "plot(sheet, linecolor=:green, unitcell=true)"
   ]
  },
  {
   "cell_type": "markdown",
   "metadata": {
    "slideshow": {
     "slide_type": "subslide"
    }
   },
   "source": [
    "The plot below shows how this element can be used to model crosses in a hexagonal arrangement."
   ]
  },
  {
   "cell_type": "code",
   "execution_count": null,
   "metadata": {
    "slideshow": {
     "slide_type": "fragment"
    }
   },
   "outputs": [],
   "source": [
    "sheet = loadedcross(s1=[1,0], s2=[0.5,sqrt(3)/2], L1=0.9, L2=0.2, w=0.35, units=cm, ntri=300, orient=45) \n",
    "println(\"$(size(sheet.fv,2)) triangles\")\n",
    "plot(sheet, linecolor=:green, unitcell=true, rep=(4,4))"
   ]
  },
  {
   "cell_type": "markdown",
   "metadata": {
    "slideshow": {
     "slide_type": "slide"
    }
   },
   "source": [
    "## JERUSALEMCROSS\n",
    "\n",
    "The final element type is `jerusalemcross`, the Jerusalem cross.  It can also be \"loaded\" or \"unloaded\" as shown in the next few plots.  First, fully loaded:"
   ]
  },
  {
   "cell_type": "code",
   "execution_count": null,
   "metadata": {
    "slideshow": {
     "slide_type": "fragment"
    }
   },
   "outputs": [],
   "source": [
    "sheet = jerusalemcross(P=1, L1=0.9, L2=0.12, w=0.04, A = 0.4, B = 0.12, units=cm, ntri=600) \n",
    "println(\"$(size(sheet.fv,2)) triangles\")\n",
    "plot(sheet, linecolor=:blue, unitcell=true)"
   ]
  },
  {
   "cell_type": "markdown",
   "metadata": {
    "slideshow": {
     "slide_type": "subslide"
    }
   },
   "source": [
    "Next, unloaded (i.e., solid)."
   ]
  },
  {
   "cell_type": "code",
   "execution_count": null,
   "metadata": {
    "slideshow": {
     "slide_type": "fragment"
    }
   },
   "outputs": [],
   "source": [
    "sheet = jerusalemcross(P=1, L1=0.9, L2=0.12, w=0.5, A = 0.4, B = 0.12, units=cm, ntri=600) \n",
    "println(\"$(size(sheet.fv,2)) triangles\")\n",
    "plot(sheet, linecolor=:blue, unitcell=true)"
   ]
  },
  {
   "cell_type": "markdown",
   "metadata": {
    "slideshow": {
     "slide_type": "subslide"
    }
   },
   "source": [
    "The next two plots show how the element may be partially loaded, on only its arms."
   ]
  },
  {
   "cell_type": "code",
   "execution_count": null,
   "metadata": {
    "slideshow": {
     "slide_type": "fragment"
    }
   },
   "outputs": [],
   "source": [
    "sheet = jerusalemcross(P=1, L1=0.9, L2=0.12, w=0.04, A = 0.4, B = 0.08, units=cm, ntri=400) \n",
    "println(\"$(size(sheet.fv,2)) triangles\")\n",
    "plot(sheet, linecolor=:blue, unitcell=true)"
   ]
  },
  {
   "cell_type": "code",
   "execution_count": null,
   "metadata": {
    "slideshow": {
     "slide_type": "subslide"
    }
   },
   "outputs": [],
   "source": [
    "plot(sheet, linecolor=:blue, rep=(4,4))"
   ]
  },
  {
   "cell_type": "markdown",
   "metadata": {
    "slideshow": {
     "slide_type": "subslide"
    }
   },
   "source": [
    "Here only the end caps are loaded:"
   ]
  },
  {
   "cell_type": "code",
   "execution_count": null,
   "metadata": {
    "slideshow": {
     "slide_type": "fragment"
    }
   },
   "outputs": [],
   "source": [
    "sheet = jerusalemcross(P=1, L1=0.9, L2=0.1, w=0.05, A = 0.4, B = 0.14, units=cm, ntri=600) \n",
    "println(\"$(size(sheet.fv,2)) triangles\")\n",
    "plot(sheet, linecolor=:blue, unitcell=true)"
   ]
  },
  {
   "cell_type": "markdown",
   "metadata": {
    "slideshow": {
     "slide_type": "subslide"
    }
   },
   "source": [
    "Below, we show the help information provided for the `jerusalemcross`.  Analogous information is available for the other element styles."
   ]
  },
  {
   "cell_type": "code",
   "execution_count": null,
   "metadata": {
    "slideshow": {
     "slide_type": "fragment"
    }
   },
   "outputs": [],
   "source": [
    "?jerusalemcross"
   ]
  },
  {
   "cell_type": "code",
   "execution_count": null,
   "metadata": {},
   "outputs": [],
   "source": []
  }
 ],
 "metadata": {
  "@webio": {
   "lastCommId": null,
   "lastKernelId": null
  },
  "celltoolbar": "Slideshow",
  "kernelspec": {
   "display_name": "Julia 1.6.1",
   "language": "julia",
   "name": "julia-1.6"
  },
  "language_info": {
   "file_extension": ".jl",
   "mimetype": "application/julia",
   "name": "julia",
   "version": "1.6.1"
  }
 },
 "nbformat": 4,
 "nbformat_minor": 4
}
