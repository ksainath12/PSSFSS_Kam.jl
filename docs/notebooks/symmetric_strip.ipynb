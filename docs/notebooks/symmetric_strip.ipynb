{
 "cells": [
  {
   "cell_type": "markdown",
   "source": [
    "## Symmetric Strip Grating\n",
    "This example consists of a symmetric strip grating, i.e. a grating where the strip width\n",
    "is half the unit cell period $P$:\n",
    "\n",
    "![diagram](./assets/symmetric_strip_diagram.png)\n",
    "\n",
    "Only three of the infinite number of strips in the grating are shown, and they extend infinitely to the left and right.\n",
    "The grating lies in the $z=0$ plane with free space on both sides. The shaded areas represent metalization.\n",
    "The dashed lines show two possible choices for the unit cell location: \"J\" for a formulation in terms of electric\n",
    "surface currents, and \"M\" for magnetic surface currents.\n",
    "\n",
    "For normal incidence there is a closed-form solution due to Weinstein,\n",
    "but for a more recent reference one can find the solution in Problem 10.6 of R. E. Collin,\n",
    "*Field Theory of Guided Waves, Second Ed.*,\n",
    "IEEE Press, 1991.  Here is the code for computing the exact solution:"
   ],
   "metadata": {
    "name": "A slide ",
    "slideshow": {
     "slide_type": "subslide"
    }
   }
  },
  {
   "outputs": [],
   "cell_type": "code",
   "source": [
    "\"\"\"\n",
    "    grating(kP, nterms=30) -> (Γ, T)\n",
    "\n",
    "Compute the normal incidence reflecton and transmission coefficients of a symmetric grid of\n",
    "zero-thickness conducting strips.  The product of the period of the strips and the incident\n",
    "electric field wavenumber is `kP` (dimensionless).  The incident electric field is\n",
    "perpendicular to the direction along the axis of the strips.  The series have been\n",
    "accelerated by applying a Kummer's transformation, using the first two terms in the Maclaurin\n",
    "series for the inverse sin function.  `kP` must be in the half-open interval [0,1). The\n",
    "default number of summed terms `nterms` yields better than 10 digits of accuracy over the\n",
    "interval [0.01,0.99].\n",
    "\"\"\"\n",
    "function grating(kP; nterms=30)\n",
    "    sum1 = 1.3862943611198906 # \\sum_{n=1}^{\\infty} 1/(n-1/2) - 1/n = log(4)\n",
    "    sum3 = 7.2123414189575710 # \\sum_{n=1}^{\\infty} (n-1/2)^{-3} - n^{-3} = 6 * \\zeta(3)\n",
    "    x = kP/(4π)\n",
    "    θ = x*sum1 + x^3/6 * sum3\n",
    "    for n = 1:nterms\n",
    "        xonmhalf = x/(n - 0.5)\n",
    "        xon = x/n\n",
    "        term = asin(xonmhalf) - (xonmhalf + (xonmhalf)^3/6) -\n",
    "              (asin(xon) - (xon + xon^3/6))\n",
    "        θ += term\n",
    "    end\n",
    "    Γ = sin(θ) * cis(-π/2 - θ)\n",
    "    T = 1 + Γ\n",
    "    return (Γ, T)\n",
    "end"
   ],
   "metadata": {},
   "execution_count": null
  },
  {
   "cell_type": "markdown",
   "source": [
    " Note that using the extension of\n",
    "[Babinet's Principle for electromagnetic fields](http://kirkmcd.princeton.edu/examples/babinet.pdf)\n",
    "this also provides the solution (upon appropriate interchange and sign change of the coefficients) for\n",
    "the case where the incident wave polarization is parallel to the direction of the strips."
   ],
   "metadata": {}
  },
  {
   "cell_type": "markdown",
   "source": [
    "Here is the PSSFSS code to analyze this structure using electric currents as the unknowns.  We will\n",
    "scale the geometry so that the frequency in GHz is numerically equal to the period of the strips\n",
    "measured in wavelengths."
   ],
   "metadata": {}
  },
  {
   "outputs": [],
   "cell_type": "code",
   "source": [
    "using Plots, PSSFSS\n",
    "c = 11.802852677165355 # light speed [inch*GHz]\n",
    "period = c  # so the period/wavelength = freq in GHz\n",
    "Py = period\n",
    "Ly = period/2\n",
    "Px = Lx = Ly/10 # Infinite in x direction so this can be anything\n",
    "Ny = 60\n",
    "Nx = round(Int, Ny*Lx/Ly)\n",
    "sheet = rectstrip(;Px, Py, Lx, Ly, Nx, Ny, units=inch)\n",
    "flist = 0.02:0.02:0.98\n",
    "steering = (θ=0, ϕ=0)\n",
    "strata = [Layer()\n",
    "          sheet\n",
    "          Layer()]\n",
    "results_j = analyze(strata, flist, steering, showprogress=false,\n",
    "                    resultfile=devnull, logfile=devnull);\n",
    "p1 = plot(sheet)\n",
    "p2 = plot(sheet, unitcell=true)\n",
    "ptitle = plot(title = \"Symmetric Strip Triangulation\",\n",
    "             grid = false, showaxis = false, xtick=[], ytick=[],\n",
    "             bottom_margin = -50Plots.px)\n",
    "plot(ptitle, p1, p2, layout = @layout([A{0.09h}; [B C]]))"
   ],
   "metadata": {},
   "execution_count": null
  },
  {
   "cell_type": "markdown",
   "source": [
    "Note that setting `Lx = Px` causes the strip to fully occupy the x-extent\n",
    "of the unit cell.  PSSFSS automatically ensures that the triangle edges at these unit\n",
    "cell boundaries define basis functions that satisfy the Floquet (phase shift) boundary\n",
    "conditions, so that currents are free to flow across these unit cell boundaries."
   ],
   "metadata": {}
  },
  {
   "cell_type": "markdown",
   "source": [
    "We can also analyze the same structure using magnetic currents in the areas free of\n",
    "metallization as the unknowns:"
   ],
   "metadata": {}
  },
  {
   "outputs": [],
   "cell_type": "code",
   "source": [
    "sheet = rectstrip(;class='M', Px, Py, Lx, Ly, Nx, Ny, units=inch)\n",
    "strata = [Layer()\n",
    "          sheet\n",
    "          Layer()]\n",
    "results_m = analyze(strata, flist, steering, showprogress=false,\n",
    "                    resultfile=devnull, logfile=devnull);"
   ],
   "metadata": {},
   "execution_count": null
  },
  {
   "cell_type": "markdown",
   "source": [
    "Each 50-frequency run of `analyze` takes about 14 seconds\n",
    "for this geometry of 720 triangles on my machine.\n",
    "More detailed timing information is available in the log file\n",
    "(which is omitted for generating this documentation)."
   ],
   "metadata": {}
  },
  {
   "cell_type": "markdown",
   "source": [
    "We will compare the PSSFSS results to the analytic solution:"
   ],
   "metadata": {}
  },
  {
   "outputs": [],
   "cell_type": "code",
   "source": [
    "# Generate exact results:\n",
    "rt = grating.(2π*flist)\n",
    "rperp_exact = first.(rt)\n",
    "tperp_exact = last.(rt)\n",
    "rpar_exact = -tperp_exact\n",
    "tpar_exact = -rperp_exact;"
   ],
   "metadata": {},
   "execution_count": null
  },
  {
   "cell_type": "markdown",
   "source": [
    "Obtain PSSFSS results for electric and magnetic currents:"
   ],
   "metadata": {}
  },
  {
   "outputs": [],
   "cell_type": "code",
   "source": [
    "outrequest = @outputs s11(v,v) s21(v,v) s11(h,h) s21(h,h)\n",
    "rperp_j, tperp_j, rpar_j, tpar_j =\n",
    "      collect.(eachcol(extract_result(results_j, outrequest)))\n",
    "rperp_m, tperp_m, rpar_m, tpar_m =\n",
    "      collect.(eachcol(extract_result(results_m, outrequest)));"
   ],
   "metadata": {},
   "execution_count": null
  },
  {
   "cell_type": "markdown",
   "source": [
    "Generate the comparison plots:"
   ],
   "metadata": {}
  },
  {
   "outputs": [],
   "cell_type": "code",
   "source": [
    "angdeg(z) = rad2deg(angle(z)) # Convenience function\n",
    "\n",
    "p1 = plot(title = \"Perpendicular Reflection Magnitude\",\n",
    "          xlabel = \"Period (wavelengths)\",\n",
    "          ylabel = \"Coefficient Magnitude\",\n",
    "          legend=:topleft)\n",
    "plot!(p1, flist, abs.(rperp_exact), ls=:dash, label=\"Exact\")\n",
    "plot!(p1, flist, abs.(rperp_j), label=\"PSSFSS J\")\n",
    "plot!(p1, flist, abs.(rperp_m), label=\"PSSFSS M\")"
   ],
   "metadata": {},
   "execution_count": null
  },
  {
   "outputs": [],
   "cell_type": "code",
   "source": [
    "p2 = plot(title = \"Perpendicular Reflection Phase\",\n",
    "          xlabel = \"Period (wavelengths)\",\n",
    "          ylabel = \"Phase (deg)\")\n",
    "plot!(p2, flist, angdeg.(rperp_exact), ls=:dash, label=\"Exact\")\n",
    "plot!(p2, flist, angdeg.(rperp_j), label=\"PSSFSS J\")\n",
    "plot!(p2, flist, angdeg.(rperp_m), label=\"PSSFSS M\")"
   ],
   "metadata": {},
   "execution_count": null
  },
  {
   "outputs": [],
   "cell_type": "code",
   "source": [
    "p1 = plot(title = \"Parallel Reflection Magnitude\",\n",
    "          xlabel = \"Period (wavelengths)\",\n",
    "          ylabel = \"Coefficient Magnitude\")\n",
    "plot!(p1, flist, abs.(rpar_exact), ls=:dash, label=\"Exact\")\n",
    "plot!(p1, flist, abs.(rpar_j), label=\"PSSFSS J\")\n",
    "plot!(p1, flist, abs.(rpar_m), label=\"PSSFSS M\")"
   ],
   "metadata": {},
   "execution_count": null
  },
  {
   "outputs": [],
   "cell_type": "code",
   "source": [
    "p2 = plot(title = \"Parallel Reflection Phase\",\n",
    "          xlabel = \"Period (wavelengths)\",\n",
    "          ylabel = \"Phase (deg)\")\n",
    "plot!(p2, flist, angdeg.(rpar_exact), ls=:dash, label=\"Exact\")\n",
    "plot!(p2, flist, angdeg.(rpar_j), label=\"PSSFSS J\")\n",
    "plot!(p2, flist, angdeg.(rpar_m), label=\"PSSFSS M\")"
   ],
   "metadata": {},
   "execution_count": null
  },
  {
   "cell_type": "markdown",
   "source": [
    "Now look at the transmission coefficients:"
   ],
   "metadata": {}
  },
  {
   "outputs": [],
   "cell_type": "code",
   "source": [
    "p1 = plot(title = \"Perpendicular Transmission Magnitude\",\n",
    "          xlabel = \"Period (wavelengths)\",\n",
    "          ylabel = \"Coefficient Magnitude\")\n",
    "plot!(p1, flist, abs.(tperp_exact), ls=:dash, label=\"Exact\")\n",
    "plot!(p1, flist, abs.(tperp_j), label=\"PSSFSS J\")\n",
    "plot!(p1, flist, abs.(tperp_m), label=\"PSSFSS M\")"
   ],
   "metadata": {},
   "execution_count": null
  },
  {
   "outputs": [],
   "cell_type": "code",
   "source": [
    "p2 = plot(title = \"Perpendicular Transmission Phase\",\n",
    "          xlabel = \"Period (wavelengths)\",\n",
    "          ylabel = \"Phase (deg)\")\n",
    "plot!(p2, flist, angdeg.(tperp_exact), ls=:dash, label=\"Exact\")\n",
    "plot!(p2, flist, angdeg.(tperp_j), label=\"PSSFSS J\")\n",
    "plot!(p2, flist, angdeg.(tperp_m), label=\"PSSFSS M\")"
   ],
   "metadata": {},
   "execution_count": null
  },
  {
   "outputs": [],
   "cell_type": "code",
   "source": [
    "p1 = plot(title = \"Parallel Transmission Magnitude\",\n",
    "          xlabel = \"Period (wavelengths)\",\n",
    "          ylabel = \"Coefficient Magnitude\", legend=:topleft)\n",
    "plot!(p1, flist, abs.(tpar_exact), ls=:dash, label=\"Exact\")\n",
    "plot!(p1, flist, abs.(tpar_j), label=\"PSSFSS J\")\n",
    "plot!(p1, flist, abs.(tpar_m), label=\"PSSFSS M\")"
   ],
   "metadata": {},
   "execution_count": null
  },
  {
   "outputs": [],
   "cell_type": "code",
   "source": [
    "p2 = plot(title = \"Parallel Transmission Phase\",\n",
    "          xlabel = \"Period (wavelengths)\",\n",
    "          ylabel = \"Phase (deg)\")\n",
    "plot!(p2, flist, angdeg.(tpar_exact), ls=:dash, label=\"Exact\")\n",
    "plot!(p2, flist, angdeg.(tpar_j), label=\"PSSFSS J\")\n",
    "plot!(p2, flist, angdeg.(tpar_m), label=\"PSSFSS M\")"
   ],
   "metadata": {},
   "execution_count": null
  },
  {
   "cell_type": "markdown",
   "source": [
    "### Conclusion\n",
    "Although good agreement is obtained, as expected the best agreement between\n",
    "all three results occurs for the lowest frequencies, where the triangles are\n",
    "smallest in terms of wavelength.  This emphasizes the fact that it is necessary for the\n",
    "user to check that enough triangles have been requested for good convergence\n",
    "over the frequency band of interest.  This example is an extremely demanding case\n",
    "in terms of bandwidth, as the ratio of maximum to minimum frequency here\n",
    "is $0.98/0.02 = 49:1$"
   ],
   "metadata": {}
  },
  {
   "cell_type": "markdown",
   "source": [
    "---\n",
    "\n",
    "*This notebook was generated using [Literate.jl](https://github.com/fredrikekre/Literate.jl).*"
   ],
   "metadata": {}
  }
 ],
 "nbformat_minor": 3,
 "metadata": {
  "language_info": {
   "file_extension": ".jl",
   "mimetype": "application/julia",
   "name": "julia",
   "version": "1.6.1"
  },
  "kernelspec": {
   "name": "julia-1.6",
   "display_name": "Julia 1.6.1",
   "language": "julia"
  }
 },
 "nbformat": 4
}
