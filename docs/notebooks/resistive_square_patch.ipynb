{
 "cells": [
  {
   "cell_type": "markdown",
   "source": [
    "## Resistive Square Patch\n",
    "This example will demonstrate the ability of PSSFSS to accurately model finite\n",
    "conductivity of FSS metallization.  It consists of a square finitely conducting\n",
    "patch in a square lattice.  It is taken from a paper by Alon S. Barlevy and\n",
    "Yahya Rahmat-Samii,\n",
    "\"Fundamental Constraints on the Electrical Characteristics of Frequency Selective\n",
    "Surfaces\", **Electromagnetics**, vol. 17, 1997, pp. 41-68. This particular example\n",
    "is from Section 3.2, Figures 7 and 8.  We will compare PSSFSS results to those digitized\n",
    "from the cited figures.\n",
    "\n",
    "We start by defining a function that creates a patch of the desired sheet resistance:"
   ],
   "metadata": {
    "name": "A slide ",
    "slideshow": {
     "slide_type": "subslide"
    }
   }
  },
  {
   "outputs": [],
   "cell_type": "code",
   "source": [
    "using Plots, PSSFSS\n",
    "patch(R) = rectstrip(Nx=10, Ny=10, Px=1, Py=1, Lx=0.5, Ly=0.5, units=cm, Rsheet=R)\n",
    "plot(patch(0), unitcell=true)"
   ],
   "metadata": {},
   "execution_count": null
  },
  {
   "cell_type": "markdown",
   "source": [
    "The patches measure 0.5 cm on a side and lie in a square lattice of period 1 cm.\n",
    "Now we perform the analysis, looping over the desired values of sheet resistance."
   ],
   "metadata": {}
  },
  {
   "outputs": [],
   "cell_type": "code",
   "source": [
    "steering = (ϕ=0, θ=0)\n",
    "flist = 1:0.5:60\n",
    "Rs = [0, 10, 30, 100]\n",
    "calculated = zeros(length(flist), length(Rs)) # preallocate storage\n",
    "outputs = @outputs s11mag(v,v)\n",
    "for (i,R) in pairs(Rs)\n",
    "    strata = [Layer(), patch(R), Layer()]\n",
    "    results = analyze(strata, flist, steering, showprogress=false,\n",
    "                      logfile=devnull, resultfile=devnull)\n",
    "    calculated[:,i] = extract_result(results, outputs)\n",
    "end"
   ],
   "metadata": {},
   "execution_count": null
  },
  {
   "cell_type": "markdown",
   "source": [
    "Looping over the four sheet resistance values, each evaluated at 119 frequencies\n",
    "required approximately 20 seconds on my machine.\n",
    "\n",
    "We plot the results, including those digitized from the paper for comparison:"
   ],
   "metadata": {}
  },
  {
   "outputs": [],
   "cell_type": "code",
   "source": [
    "using DelimitedFiles\n",
    "markers = (:diamond, :utriangle, :square, :xcross)\n",
    "colors = (:blue, :red, :green, :black)\n",
    "p = plot(xlim=(-0.01,60.01), xtick = 0:10:60, ylim=(-0.01,1.01), ytick=0:0.1:1,\n",
    "         xlabel=\"Frequency (GHz)\", ylabel=\"Reflection Coefficient Magnitude\",\n",
    "         title = \"Resistive Square Patch\",\n",
    "         legend=:topright)\n",
    "for (i,R) in pairs(Rs)\n",
    "    scatter!(p, flist, calculated[:,i], label=\"PSSFSS $R Ω\", ms=2, shape=markers[i], color=colors[i])\n",
    "    data = readdlm(\"../src/assets/barlevy_patch_digitized_$(R)ohm.csv\", ',')\n",
    "    plot!(p, data[:,1], data[:,2], label=\"Barlevy $R Ω\", ls=:dash, color=colors[i])\n",
    "end\n",
    "p"
   ],
   "metadata": {},
   "execution_count": null
  },
  {
   "cell_type": "markdown",
   "source": [
    "### Conclusion\n",
    "PSSFSS results are indistinguishable from those reported in the cited paper."
   ],
   "metadata": {}
  },
  {
   "cell_type": "markdown",
   "source": [
    "---\n",
    "\n",
    "*This notebook was generated using [Literate.jl](https://github.com/fredrikekre/Literate.jl).*"
   ],
   "metadata": {}
  }
 ],
 "nbformat_minor": 3,
 "metadata": {
  "language_info": {
   "file_extension": ".jl",
   "mimetype": "application/julia",
   "name": "julia",
   "version": "1.6.1"
  },
  "kernelspec": {
   "name": "julia-1.6",
   "display_name": "Julia 1.6.1",
   "language": "julia"
  }
 },
 "nbformat": 4
}
