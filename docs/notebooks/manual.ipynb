{
 "cells": [
  {
   "cell_type": "markdown",
   "source": [
    "# [PSSFSS](https://github.com/simonp0420/PSSFSS) User Manual\n",
    "## Introduction"
   ],
   "metadata": {
    "name": "A slide ",
    "slideshow": {
     "slide_type": "slide"
    }
   }
  },
  {
   "cell_type": "markdown",
   "source": [
    "### What Does PSSFSS Do?\n",
    "PSSFSS analyzes a multilayered structure as shown below that is\n",
    "stratified in the $z$ direction\n",
    "and infinite in extent in the $x$ and $y$ directions:"
   ],
   "metadata": {
    "name": "A slide ",
    "slideshow": {
     "slide_type": "subslide"
    }
   }
  },
  {
   "cell_type": "markdown",
   "source": [
    "![fssgeometry](./assets/fss_geometry.png)"
   ],
   "metadata": {}
  },
  {
   "cell_type": "markdown",
   "source": [
    "There are $N \\ge 2$ dielectric layers. The $k$th layer is\n",
    "characterized by its complex permittivity $\\epsilon_k$, complex\n",
    "permeability $\\mu_k$, and width $h_k$ (except for outer layers $1$ and $N$\n",
    "which are assumed to be semi-infinite).  There are $N-1$ junction planes\n",
    "separating the layers. At some of these junction planes there may exist\n",
    "frequency selective surfaces (FSSs) or polarization selective surfaces (PSSs)\n",
    "consisting of zero-thickness periodic patterns of metalization.\n",
    "PSSFSS will determine the generalized scattering matrix (GSM) for this structure\n",
    "which fully characterizes it in terms of illumination by an incoming plane wave\n",
    "of arbitrary polarization incident from either Region $1$ or Region $N$."
   ],
   "metadata": {
    "name": "A slide ",
    "slideshow": {
     "slide_type": "subslide"
    }
   }
  },
  {
   "cell_type": "markdown",
   "source": [
    "### A Quick Example\n",
    "Here is an example run of PSSFSS for a 4-sheet meanderline polarizer design\n",
    "from one of the first papers on the subject: T. L. Blackney, J. R. Burnett, and\n",
    "S. B. Cohn, “A design method for meander-line circular polarizers”\n",
    "presented at 22nd Annual Antenna Symposium, Oct. 1972.\n",
    "Detailed explanations of the code are omitted for now."
   ],
   "metadata": {
    "name": "A slide ",
    "slideshow": {
     "slide_type": "slide"
    }
   }
  },
  {
   "cell_type": "markdown",
   "source": [
    "```julia\n",
    "using PSSFSS\n",
    "outersheet = meander(a=0.3535, b=0.707, h=0.28, w1=0.018,\n",
    "                     w2=0.018, ntri=800, units=inch,rot=45)\n",
    "innersheet = meander(a=0.3535, b=0.707, h=0.37, w1=0.027,\n",
    "                     w2=0.027, ntri=800, units=inch,rot=45)\n",
    "flist = 3:0.25:9\n",
    "steering = (ϕ=0, θ=0)\n",
    "substrate = Layer(ϵᵣ=2.52, width=0.01inch)\n",
    "spacer(width) = Layer(width=width, ϵᵣ=1.08)\n",
    "strata = [  Layer(),\n",
    "            outersheet, substrate, spacer(0.2inch),\n",
    "            innersheet, substrate, spacer(0.3inch),\n",
    "            innersheet, substrate, spacer(0.2inch),\n",
    "            outersheet, substrate,\n",
    "            Layer()  ]\n",
    "outputs = [\"blackney.csv\"  @outputs FGHz ar21db(h)]\n",
    "results = analyze(strata, flist, steering, outlist=outputs)\n",
    "```"
   ],
   "metadata": {
    "name": "A slide ",
    "slideshow": {
     "slide_type": "subslide"
    }
   }
  },
  {
   "cell_type": "markdown",
   "source": [
    "Assuming that the above code is contained in the file \"blackney.jl\"\n",
    "it can be run from the Julia prompt via `include(\"blackney.jl\")`,\n",
    "after which a CSV file \"blackney.csv\" is\n",
    "created, containing the frequency in GHz in the first column and\n",
    "axial ratio in dB in the second. It can be plotted in Julia as follows:\n",
    "```julia\n",
    "using Plots, DelimitedFiles\n",
    "\n",
    "p = plot(title=\"Blackney 1972 Polarizer\", xlabel=\"Frequency (GHz)\",\n",
    "                                          ylabel=\"Axial Ratio (dB)\")\n",
    "data = readdlm(\"blackney.csv\", ',', skipstart=1)\n",
    "plot!(p, data[:,1],data[:,2],shape=:square,color=:red,label=\"PSSFSS\")\n",
    "dat = readdlm(\"blackney_ar_digitized.csv\", ',')\n",
    "scatter!(p, dat[:,1],dat[:,2],color=:blue,shape=:x,label=\"Measured\")\n",
    "display(p)\n",
    "```"
   ],
   "metadata": {
    "name": "A slide ",
    "slideshow": {
     "slide_type": "subslide"
    }
   }
  },
  {
   "cell_type": "markdown",
   "source": [
    "Note that we also graphed the measured results digitized from the plot\n",
    "presented in the paper. Here is the comparison plot:\n",
    "\n",
    "![blackney](./assets/blackney_polarizer_comparison.png)\n",
    "\n",
    "The PSSFSS run took about 30 seconds on my machine for 4 meanderline PSS sheets\n",
    "analyzed at 25 frequencies.\n",
    "\n",
    "I hope this example whetted your appetite to learn\n",
    "more about PSSFSS!"
   ],
   "metadata": {
    "name": "A slide ",
    "slideshow": {
     "slide_type": "subslide"
    }
   }
  },
  {
   "cell_type": "markdown",
   "source": [
    "### Recommendations for Hardware and Software"
   ],
   "metadata": {
    "name": "A slide ",
    "slideshow": {
     "slide_type": "slide"
    }
   }
  },
  {
   "cell_type": "markdown",
   "source": [
    "[PSSFSS](https://github.com/simonp0420/PSSFSS) is\n",
    "written in the [Julia](https://julialang.org/) programming language.\n",
    "You must have Julia installed to use PSSFSS.\n",
    "For Windows users, I recommend using the [Chocolatey](https://chocolatey.org/) package manager to\n",
    "handle the Julia installation.  For Linux and Mac users, I recommend using\n",
    "[JILL.py](https://github.com/johnnychen94/jill.py) to manage the installation."
   ],
   "metadata": {}
  },
  {
   "cell_type": "markdown",
   "source": [
    "It goes without saying that computational electromagnetics is compute intensive. You will\n",
    "want to run PSSFSS on a rather \"beefy\" machine. A machine with multiple cores\n",
    "will provide the best experience since the code is multi-threaded.\n",
    "Also, PSSFSS can use a lot of RAM--a minimum of 16 GBytes RAM is recommended.\n",
    "The examples provided in this documentation were run on either a Windows or Linux machine,\n",
    "both equipped with an\n",
    "8-core Intel(R) Core(TM) i7-9700 processor clocked at 3 GHz, with either 32 GBytes (Windows) or\n",
    "64 GBytes (Linux) RAM, with multi-threading enabled via the `-t auto` Julia startup option.\n",
    "**Multi-threading must be explicitly enabled in Julia.**  Please see\n",
    "[this section](https://docs.julialang.org/en/v1/manual/multi-threading/#man-multithreading) of the Julia\n",
    "documentation for details."
   ],
   "metadata": {
    "name": "A slide ",
    "slideshow": {
     "slide_type": "subslide"
    }
   }
  },
  {
   "cell_type": "markdown",
   "source": [
    "You will need a text editor to create Julia scripts that run PSSFSS.  One of the best for this purpose\n",
    "is [VS Code](https://code.visualstudio.com/), which has extensive support for both editing and running\n",
    "Julia via the\n",
    "[julia-vscode](https://github.com/julia-vscode/julia-vscode) extension.  Again, Windows users can\n",
    "conveniently install VS Code using Chocolatey.  Whatever your choice of editor, installation and\n",
    "use of the [JuliaMono](https://cormullion.github.io/pages/2020-07-26-JuliaMono/) fonts is\n",
    "highly recommended. JuliaMono exploits Julia's support for Unicode fonts and\n",
    "allows one to use standard engineering symbols for\n",
    "electromagnetic quantities directly in Julia scripts; symbols such as ϵᵣ, μᵣ, θ, ϕ, and tanδ."
   ],
   "metadata": {
    "name": "A slide ",
    "slideshow": {
     "slide_type": "subslide"
    }
   }
  },
  {
   "cell_type": "markdown",
   "source": [
    "An alternative to using a text editor is to run scripts from a Jupyter notebook.  See the\n",
    "[IJulia](https://github.com/JuliaLang/IJulia.jl) package for further details."
   ],
   "metadata": {
    "name": "A slide ",
    "slideshow": {
     "slide_type": "subslide"
    }
   }
  },
  {
   "cell_type": "markdown",
   "source": [
    "It is strongly suggested that PSSFSS users also install the [Plots](https://github.com/JuliaPlots/Plots.jl)\n",
    "package.  This will allow easy visualization of the FSS/PSS element triangulations produced by PSSFSS, in\n",
    "addition to providing a convenient means to plot analysis results."
   ],
   "metadata": {
    "name": "A slide ",
    "slideshow": {
     "slide_type": "fragment"
    }
   }
  },
  {
   "cell_type": "markdown",
   "source": [
    "### The PSSFSS Analysis Process\n",
    "Here are the steps in the analysis process."
   ],
   "metadata": {
    "name": "A slide ",
    "slideshow": {
     "slide_type": "slide"
    }
   }
  },
  {
   "cell_type": "markdown",
   "source": [
    "1. Strata: Specify the type and geometry of the FSS/PSS sheet(s) and intervening dielectric layers."
   ],
   "metadata": {
    "name": "A slide ",
    "slideshow": {
     "slide_type": "fragment"
    }
   }
  },
  {
   "cell_type": "markdown",
   "source": [
    "2. Steering: Specify the desired values of the unit cell incremental phasing or of\n",
    "   the set of incidence angles to be considered."
   ],
   "metadata": {
    "name": "A slide ",
    "slideshow": {
     "slide_type": "fragment"
    }
   }
  },
  {
   "cell_type": "markdown",
   "source": [
    "3. Specify the frequencies at which the structure is to be analyzed."
   ],
   "metadata": {
    "name": "A slide ",
    "slideshow": {
     "slide_type": "fragment"
    }
   }
  },
  {
   "cell_type": "markdown",
   "source": [
    "4. Specify any outputs to be written to one or more CSV files."
   ],
   "metadata": {
    "name": "A slide ",
    "slideshow": {
     "slide_type": "fragment"
    }
   }
  },
  {
   "cell_type": "markdown",
   "source": [
    "5. Invoke the `analysis` function to perform the desired analysis. This will generate a log file,\n",
    "   a \"results\" file, and the output files specified in Step 4."
   ],
   "metadata": {
    "name": "A slide ",
    "slideshow": {
     "slide_type": "fragment"
    }
   }
  },
  {
   "cell_type": "markdown",
   "source": [
    "6. Optionally, extract additional outputs from the results returned by `analyze` via a call to\n",
    "   `extract_result`, or from the results file via a call to `extract_result_file`."
   ],
   "metadata": {
    "name": "A slide ",
    "slideshow": {
     "slide_type": "subslide"
    }
   }
  },
  {
   "cell_type": "markdown",
   "source": [
    "7. Plot or export extracted outputs."
   ],
   "metadata": {
    "name": "A slide ",
    "slideshow": {
     "slide_type": "fragment"
    }
   }
  },
  {
   "cell_type": "markdown",
   "source": [
    "We dissect these steps below..."
   ],
   "metadata": {}
  },
  {
   "cell_type": "markdown",
   "source": [
    "## Strata\n",
    "### Layer\n",
    "Dielectric layers are created with the `Layer` function:"
   ],
   "metadata": {
    "name": "A slide ",
    "slideshow": {
     "slide_type": "slide"
    }
   }
  },
  {
   "outputs": [],
   "cell_type": "code",
   "source": [
    "using PSSFSS # Brings PSSFSS functions and types into scope\n",
    "Layer() # Defaults to zero-thickness vacuum layer"
   ],
   "metadata": {},
   "execution_count": null
  },
  {
   "outputs": [],
   "cell_type": "code",
   "source": [
    "Layer(ϵᵣ=2.2, tanδ=0.003, width=20mil) # Available length units include mil, inch, mm, cm"
   ],
   "metadata": {
    "name": "A slide ",
    "slideshow": {
     "slide_type": "fragment"
    }
   },
   "execution_count": null
  },
  {
   "cell_type": "markdown",
   "source": [
    "Layers and sheets can be assigned to Julia variables to avoid repetitive typing:"
   ],
   "metadata": {
    "name": "A slide ",
    "slideshow": {
     "slide_type": "fragment"
    }
   }
  },
  {
   "outputs": [],
   "cell_type": "code",
   "source": [
    "duroid = Layer(ϵᵣ=2.2, tanδ=0.003, width=20mil)\n",
    "foam = Layer(epsr=1.05, width=0.25inch, tandel=0.001) # You can stick to ASCII if you prefer"
   ],
   "metadata": {},
   "execution_count": null
  },
  {
   "cell_type": "markdown",
   "source": [
    "### RWGSheet\n",
    "An `RWGSheet` object represents the triangulation of an FSS/PSS element, and is\n",
    "created by calling a constructor function for a particular style of sheet:"
   ],
   "metadata": {
    "name": "A slide ",
    "slideshow": {
     "slide_type": "slide"
    }
   }
  },
  {
   "outputs": [],
   "cell_type": "code",
   "source": [
    "patch = rectstrip(Nx=10, Ny=10, Px=1, Py=1, Lx=0.5, Ly=0.5, units=cm)"
   ],
   "metadata": {
    "name": "A slide ",
    "slideshow": {
     "slide_type": "fragment"
    }
   },
   "execution_count": null
  },
  {
   "cell_type": "markdown",
   "source": [
    "The call to `rectstrip` above creates a `RWGSheet` object for a rectangular strip\n",
    "of dimensions 0.5 cm in the x and y directions, lying in a square unit cell of dimension\n",
    "1 cm.  The triangulation uses 10 edges in the x and y directions (`Nx` and `Ny`).\n",
    "\n",
    "You can get documentation for `rectstrip` by typing `?rectstrip` at the Julia prompt.\n",
    "`rectstrip` can be used to model dipoles, strip grids, ground planes, rectangular reflectarray elements, and rectangular\n",
    "patch elements.\n",
    "A call to `rectstrip` generates a rectangular strip, which by default (i.e. when `rot=0`) is oriented with its sides parallel\n",
    "to the x and y axes.  It should be noted that it is permissible for either or both strip side lengths to be equal to\n",
    "the corresponding unit cell dimension (i.e. `Lx==Px` and/or `Ly==Py`).  Currently, this is the only way to model an\n",
    "imperfectly conducting ground plane (`Rsheet` > 0) that completely fills the unit cell.\n",
    "\n",
    "Other FSS/PSS element types: `pecsheet`, `pmcsheet`, `polyring`, `meander`, `loadedcross`,\n",
    "`jerusalemcross`."
   ],
   "metadata": {
    "name": "A slide ",
    "slideshow": {
     "slide_type": "fragment"
    }
   }
  },
  {
   "cell_type": "markdown",
   "source": [
    "#### RWGSheet Classes\n",
    "The default class for a `RWGSheet` is `'J'` meaning the triangulation represents electric surface\n",
    "currents flowing on a metalized region.  Alternatively, one can specify `class='M'` in the call to\n",
    "create the `RWGSheet` object, in which case the triangulation represents equivalent magnetic current\n",
    "in an aperture in an otherwise solid metallic surface.  So `'J'`-class is used for metal wire, strip,\n",
    "patch, capacitive, etc. elements, while `'M'`-class is used for slot, aperture, inductive, etc. elements."
   ],
   "metadata": {
    "name": "A slide ",
    "slideshow": {
     "slide_type": "subslide"
    }
   }
  },
  {
   "cell_type": "markdown",
   "source": [
    "### Plotting Sheets\n",
    "We can visualize the triangulation using the `plot` function of the `Plots` package."
   ],
   "metadata": {
    "name": "A slide ",
    "slideshow": {
     "slide_type": "slide"
    }
   }
  },
  {
   "outputs": [],
   "cell_type": "code",
   "source": [
    "using Plots\n",
    "plot(patch)"
   ],
   "metadata": {
    "name": "A slide ",
    "slideshow": {
     "slide_type": "fragment"
    }
   },
   "execution_count": null
  },
  {
   "outputs": [],
   "cell_type": "code",
   "source": [
    "plot(patch, linecolor=:red, unitcell=true)"
   ],
   "metadata": {
    "name": "A slide ",
    "slideshow": {
     "slide_type": "subslide"
    }
   },
   "execution_count": null
  },
  {
   "cell_type": "markdown",
   "source": [
    "Here we changed the color and turned on the unit cell outline.  Other optional\n",
    "keywords that PSSFSS adds to or uses from the `plot` function:"
   ],
   "metadata": {
    "name": "A slide ",
    "slideshow": {
     "slide_type": "fragment"
    }
   }
  },
  {
   "cell_type": "markdown",
   "source": [
    "#### `plot` Keywords Used by PSSFSS (defaults in **bold**)\n",
    "\n",
    "| Keyword        | Value(s)         | Description    |\n",
    "|:---------------|:-----------------|:---------------|\n",
    "| `edges`        | **`true`**/`false` | Plot triangle edges? |\n",
    "| `faces`        | **`false`**/`true` | Plot triangle faces? |\n",
    "| `nodes`        | **`false`**/`true` | Plot triangle vertices? |\n",
    "| `unitcell`     | **`false`**/`true` | Plot unit cell? |\n",
    "| `linecolor`    | **`:black`**/Any `Plots` color | Color for triangle edges |\n",
    "| `fillcolor`    | **`:blue`**/Any `Plots` color | Color for triangle faces |\n",
    "| `fillalpha`    | **0.8**/0≤t≤1 | Opacity for triangle faces |\n",
    "| `markercolor`  | **`:black`**/Any `Plots` color | Color for triangle vertices |\n",
    "| `markersize`   | **1**/n | Size of triangle vertices |\n",
    "| `markershape`  | **`:circle`**/Any Plots marker shape | Shape of triangle vertices |\n",
    "| `rep`          | **`(1,1)`**/`(n₁,n₂)` | # of repetitions of unit cell to draw along the two periodic directions |"
   ],
   "metadata": {
    "name": "A slide ",
    "slideshow": {
     "slide_type": "subslide"
    }
   }
  },
  {
   "outputs": [],
   "cell_type": "code",
   "source": [
    "plot(patch, rep=(4,3)) # Show multiple FSS elements"
   ],
   "metadata": {
    "name": "A slide ",
    "slideshow": {
     "slide_type": "subslide"
    }
   },
   "execution_count": null
  },
  {
   "cell_type": "markdown",
   "source": [
    "### Strata: The full structure geometry"
   ],
   "metadata": {
    "name": "A slide ",
    "slideshow": {
     "slide_type": "slide"
    }
   }
  },
  {
   "outputs": [],
   "cell_type": "code",
   "source": [
    "strata = [Layer(), patch, Layer()] # A vector of RWGSheet and Layer objects"
   ],
   "metadata": {},
   "execution_count": null
  },
  {
   "cell_type": "markdown",
   "source": [
    "The first and last entries must be lossless `Layer`s with identical electrical parameters.\n",
    "They are assumed to be semi-infinite in extent.  In between these outer layers\n",
    "can be any number of other layers\n",
    "and FSS sheets.  Any two sheets cannot be adjacent: they must be separated by at least one `Layer`."
   ],
   "metadata": {}
  },
  {
   "cell_type": "markdown",
   "source": [
    "## Steering\n",
    "You can specify a set of plane wave incidence angles to be analyzed, or a set of progressive phase\n",
    "shifts.\n",
    "### Steering Choice: Specify Incidence angles\n",
    "The steering angles\n",
    "$\\theta^{\\text{inc}}$ and $\\phi^\\text{inc}$\n",
    "specify the the incident wavevector for the plane wave illuminating the structure:\n",
    "$$\n",
    " \\vec{k}_1 = k_1(\\hat{x} \\sin\\theta^\\text{inc} \\cos \\phi^\\text{inc} +\n",
    "                \\hat{y} \\sin\\theta^\\text{inc} \\sin \\phi^\\text{inc} + \\hat{z} \\cos\\theta^\\text{inc})\n",
    "   \\quad \\text{(Region} \\, 1 \\, \\text{incidence)}\n",
    "   \\\\\n",
    "  \\vec{k}_N = k_N(\\hat{x} \\sin\\theta^\\text{inc} \\cos \\phi^\\text{inc} +\n",
    "                \\hat{y} \\sin\\theta^\\text{inc} \\sin \\phi^\\text{inc} - \\hat{z} \\cos\\theta^\\text{inc})\n",
    "   \\quad \\text{(Region} \\, N \\, \\text{incidence)}\n",
    "$$\n",
    "Here $1$ refers to the first `Layer` specified in the `strata` vector, and $N$\n",
    "refers to the last.\n",
    "Use a [named tuple](https://docs.julialang.org/en/v1/manual/functions/#Named-Tuples)\n",
    "to specify the set of steering angles to be analyzed. Here are some\n",
    "examples:"
   ],
   "metadata": {
    "name": "A slide ",
    "slideshow": {
     "slide_type": "slide"
    }
   }
  },
  {
   "outputs": [],
   "cell_type": "code",
   "source": [
    "steer = (θ=0, ϕ=0) # The most common case.  Note that \"inc\" is implied and not used.\n",
    "steer = (θ=0:15:45, ϕ=[0,90])\n",
    "steer = (phi=[0,90], theta=[0,15,30,45]) # Can use ASCII names if desired"
   ],
   "metadata": {},
   "execution_count": null
  },
  {
   "cell_type": "markdown",
   "source": [
    "The last two assignments above are equivalent as inputs to `analyze`, except for the order in which\n",
    "the angles will be processed. `analyze` will execute a triple loop consisting of the two\n",
    "incidence angles and frequency.  Frequency is always the innermost loop so it will vary most\n",
    "rapidly. In the second line above, since `θ`\n",
    "was specified first, it will be iterated in the outermost loop and will thus vary the slowest. In\n",
    "the last example above, `ϕ` will be iterated in the outmost loop, then `θ`, then frequency."
   ],
   "metadata": {}
  },
  {
   "cell_type": "markdown",
   "source": [
    "### Steering Choice: Specify Phasing\n",
    "Plane wave illumination induces a progressive phase shift from cell to cell of the structure:\n",
    "$$\n",
    " V(\\vec{r} + m\\vec{s}_1 + n\\vec{s}_2) = e^{-j(m\\psi_1 + n\\psi_2)} V(\\vec{r})\n",
    "$$\n",
    "for all integers $m$ and $n$, where $\\vec{s}_1$ and $\\vec{s}_2$\n",
    "are the *lattice vectors* of the 2D periodic structure, and\n",
    "$\\psi_1$ and $\\psi_2$\n",
    "are the incremental phase shifts (a pair of real numbers).  Specify\n",
    "the phasings in degrees as a named tuple as in either of the following two examples:"
   ],
   "metadata": {
    "name": "A slide ",
    "slideshow": {
     "slide_type": "subslide"
    }
   }
  },
  {
   "outputs": [],
   "cell_type": "code",
   "source": [
    "steer = (ψ₁=10:10:40, ψ₂=0:5:15)\n",
    "steer = (psi1=10:10:40, psi2=0) # Can use ASCII names if desired"
   ],
   "metadata": {},
   "execution_count": null
  },
  {
   "cell_type": "markdown",
   "source": [
    "The rules for order of execution are the same as for steering angles: The first named quantity\n",
    "is incremented in the outer loop."
   ],
   "metadata": {}
  },
  {
   "cell_type": "markdown",
   "source": [
    "### Steering: Which Choice?\n",
    "Because of the unique wide-band Green's function formulation used by PSSFSS,\n",
    "it is significantly (several times) faster to perform a frequency sweep if the incremental\n",
    "phase shifts are held constant with frequency, rather than the incidence\n",
    "angles.  The only exception is normal incidence, i.e. θ = 0, which implies\n",
    "that $\\psi_1 = \\psi_2 = 0$ for all frequencies.\n",
    "Note however, that by sweeping frequency over a number of different phasings,\n",
    "one can \"cover\" any desired range of scan angles."
   ],
   "metadata": {
    "name": "A slide ",
    "slideshow": {
     "slide_type": "subslide"
    }
   }
  },
  {
   "cell_type": "markdown",
   "source": [
    "## Analysis Frequencies\n",
    "Frequencies to be analyzed are entered in GHz as either a scalar value or a Julia \"iterable collection\"\n",
    "such as an `Array` or `Range`:"
   ],
   "metadata": {
    "name": "A slide ",
    "slideshow": {
     "slide_type": "slide"
    }
   }
  },
  {
   "outputs": [],
   "cell_type": "code",
   "source": [
    "flist = 12\n",
    "flist = 2:2:12 # same as [2,4,6,8,10,12]\n",
    "flist = union(7:0.5:10, 20:0.5:25) # Two frequency bands"
   ],
   "metadata": {},
   "execution_count": null
  },
  {
   "cell_type": "markdown",
   "source": [
    "## Outputs\n",
    "### Standard Output Files\n",
    "By default PSSFSS will create a log file named \"pssfss.log\" and a results file named \"pssfss.res\".\n",
    "The former is a text file and the latter is a binary ([JLD2](https://github.com/JuliaIO/JLD2.jl)) file.\n",
    "The log file contains a recapitulation of the geometry being analyzed and a report on the progress\n",
    "and timing of the analysis. The results file contains the generalized scattering matrices computed\n",
    "by PSSFSS along with other information needed to generate any of the output parameters to be described\n",
    "shortly. The names used for these two files can be specified using the `logfile` and `resultfile`\n",
    "keyword arguments to `analyze`. If you wish to bypass creation of either of these files\n",
    "(not recommended), use, e.g. `resultfile=devnull` in the call to `analyze`."
   ],
   "metadata": {
    "name": "A slide ",
    "slideshow": {
     "slide_type": "slide"
    }
   }
  },
  {
   "cell_type": "markdown",
   "source": [
    "### Requesting Additional Outputs\n",
    "Before describing the syntax used to request additional outputs, we digress briefly to establish notation..."
   ],
   "metadata": {
    "name": "A slide ",
    "slideshow": {
     "slide_type": "subslide"
    }
   }
  },
  {
   "cell_type": "markdown",
   "source": [
    "#### Scattering Parameters Computed by PSSFSS\n",
    "The scattering matrix computed by PSSFSS relates the incoming and outgoing TE and TM\n",
    "travelling wave coefficients\n",
    "for Layers $1$ and $N$ of the stratified structure:\n",
    "\n",
    "|                                         |                                          |\n",
    "|-----------------------------------------|------------------------------------------|\n",
    "| ![twdefs](./assets/twdefs.png) | ![gsmdef](./assets/gsmdef.png) |\n",
    "\n",
    "where\n",
    "\n",
    "|                                           |\n",
    "|-------------------------------------------|\n",
    "| ![twvectors](./assets/twvectors.png)|"
   ],
   "metadata": {
    "name": "A slide ",
    "slideshow": {
     "slide_type": "subslide"
    }
   }
  },
  {
   "cell_type": "markdown",
   "source": [
    "So we see that the individual partitions of the scattering matrix are each a $2 \\times 2$ matrix, with\n",
    "$\\boldsymbol{S}^{11}$ and $\\boldsymbol{S}^{22}$ containing reflection coefficients and\n",
    "$\\boldsymbol{S}^{12}$ and $\\boldsymbol{S}^{21}$ containing transmission coefficients."
   ],
   "metadata": {
    "name": "A slide ",
    "slideshow": {
     "slide_type": "subslide"
    }
   }
  },
  {
   "cell_type": "markdown",
   "source": [
    "#### The @outputs macro\n",
    "The `@outputs` [macro](https://docs.julialang.org/en/v1/manual/metaprogramming/#man-macros) is used\n",
    "to request output performance parameters.  It can be used in three different ways:\n",
    " 1. It can be used as part of the `outlist` keyword argument to `analyze` to set up the\n",
    "    outputs to be written to one or more CSV files during the analysis run.\n",
    " 2. It can be used as part of an input argument to `extract_result_file` to extract performance\n",
    "    parameters from the results file generated by a previous analysis run.\n",
    " 3. It can be used as part of an input argument to `extract_result` to extract performance\n",
    "    parameters from the Julia variable returned by the `analysis` function."
   ],
   "metadata": {
    "name": "A slide ",
    "slideshow": {
     "slide_type": "subslide"
    }
   }
  },
  {
   "cell_type": "markdown",
   "source": [
    "We'll see how to accomplish all these in a bit, but first let's look at the syntax and semantics\n",
    "of using `@outputs`.\n",
    "As a first example, we can request the $(1,2)$ entry of $\\boldsymbol{S}^{21}$ via the following code:\n",
    "```julia\n",
    "@outputs s21(1,2)\n",
    "```\n",
    "Recall that this is the transmission coefficient for the amount of outgoing TE plane wave in Layer $N$ due\n",
    "to illuminating Layer $1$ with an incoming TM plane wave."
   ],
   "metadata": {
    "name": "A slide ",
    "slideshow": {
     "slide_type": "fragment"
    }
   }
  },
  {
   "cell_type": "markdown",
   "source": [
    "It isn't convenient to remember that `(1,2)` means `(TE,TM)`, so PSSFSS lets you use a friendlier notation:\n",
    "```julia\n",
    "@outputs S21(te,tm) # Note that case is not significant\n",
    "```\n",
    "The above code fragment is exactly equivalent to the former one.  Case (capitalization) is not\n",
    "significant for the arguments of the `@outputs` macro, so `s21(TE,tm)`, `S21(TE,TM)`,\n",
    "etc. are all equivalent."
   ],
   "metadata": {
    "name": "A slide ",
    "slideshow": {
     "slide_type": "subslide"
    }
   }
  },
  {
   "cell_type": "markdown",
   "source": [
    "The previous constructions will fetch the coefficient as a complex number.  Most of the time this is not\n",
    "desired. To obtain the magnitude in dB, use e.g. `S21dB(te,tm)` and to obtain the phase angle in degrees use\n",
    "e.g. `S21ang(te,tm)`.  Again, case is not significant, and \"1\" and \"te\" can be freely interchanged, as can\n",
    "\"2\" and \"tm\"."
   ],
   "metadata": {
    "name": "A slide ",
    "slideshow": {
     "slide_type": "fragment"
    }
   }
  },
  {
   "cell_type": "markdown",
   "source": [
    "It is often desired to use a set of polarization basis vectors other than TE/TM to define field\n",
    "coefficients.  PSSFSS supports in addition to TE/TM the use of H/V for horizontal/vertical components\n",
    "(in the [Ludwig 3](https://ieeexplore.ieee.org/document/1140406)) sense, and L/R for left-hand circular\n",
    "and right-hand circular polarization (in the\n",
    "[IEEE sense](https://en.wikipedia.org/wiki/Circular_polarization#Uses_of_the_two_conventions))."
   ],
   "metadata": {
    "name": "A slide ",
    "slideshow": {
     "slide_type": "fragment"
    }
   }
  },
  {
   "cell_type": "markdown",
   "source": [
    "##### Examples\n",
    "Here is an example for multiple outputs: frequency in GHz, crosspol reflection coefficient in Layer 1,\n",
    "axial ratio (in dB) for the outgoing wave in Layer 1 due to incoming horizontally\n",
    "polarized wave in Layer $N$:\n",
    "```julia\n",
    "@outputs FGHz s11dB(h,v) ar12dB(h)\n",
    "```\n",
    "Note that multiple arguments to `@outputs` are separated by spaces, **with no commas or other\n",
    "punctuation between**$^1$."
   ],
   "metadata": {
    "name": "A slide ",
    "slideshow": {
     "slide_type": "subslide"
    }
   }
  },
  {
   "cell_type": "markdown",
   "source": [
    "$^1$ An [alternative](https://docs.julialang.org/en/v1/manual/metaprogramming/#Macro-invocation)\n",
    "      syntax is, e.g. `@outputs(FGHz, s11dB(h,v), ar12dB(h))` with no spaces\n",
    "      between the macro name and the opening parenthesis."
   ],
   "metadata": {}
  },
  {
   "cell_type": "markdown",
   "source": [
    "Another example for multiple outputs: frequency in GHz, incidence angles $\\theta$ and $\\phi$,\n",
    "transmission coefficient magnitudes in dB to LHCP and RHCP for a vertically polarized incident wave:\n",
    "```julia\n",
    "@outputs FGHz θ ϕ s21dB(L,v) s21dB(R,V)\n",
    "@outputs FGHz theta phi s21dB(L,v) s21dB(R,V)\n",
    "```\n",
    "The above two macro invocations produce identical results, showing that you can use ASCII names\n",
    "for the incidence angles if desired."
   ],
   "metadata": {
    "name": "A slide ",
    "slideshow": {
     "slide_type": "subslide"
    }
   }
  },
  {
   "cell_type": "markdown",
   "source": [
    "#### Table of Valid `@outputs` Parameters\n",
    "All parameters taking arguments can use any of `1`, `2`, `TE`, `TM`, `H`, `V`, `L`, and `R`. The\n",
    "parameters and their argument(s) can be typed without regard to capitalization.\n",
    "\n",
    "|Name(s)                             |# of Arguments| Description                        |\n",
    "|:-----------------------------------|:------------:|:-----------------------------------|\n",
    "|FGHz, FMHz                          | 0            | Frequency in GHz or MHz, resp.     |\n",
    "|θ, theta, ϕ, phi                    | 0            | Incidence angles in degrees        |\n",
    "|ψ₁, ψ₂, psi1, psi2                  | 0            | Incremental phase shifts in degrees|\n",
    "| s11, s12, s21, s22                 | 2            | Complex coefficient                |\n",
    "| s11mag, s12mag, s21mag, s22mag     | 2            | Magnitude of coefficient           |\n",
    "| s11db, s12db, s21db, s22db         | 2            | Magnitude in dB of coefficient     |\n",
    "| s11ang, s12ang, s21ang, s22ang     | 2            | Phase angle in deg. of coefficient |\n",
    "| S11real, s12real, s21real, s22real | 2            | Real part of coefficient           |\n",
    "| S11imag, s12imag, s21imag, s22imag | 2            | Imaginary part of coefficient      |\n",
    "| ar11db, ar12db, ar21db, ar22db     | 1            | Axial ratio in dB                  |\n",
    "| Δipd12, dipd12, Δipd21, dipd21     | 0            | Delta insertion phase delay in deg. (TE-TM)|\n",
    "| Δil12, dil12, Δil21, dil21         | 0            | Delta insertion loss in dB (TE-TM) |"
   ],
   "metadata": {
    "name": "A slide ",
    "slideshow": {
     "slide_type": "subslide"
    }
   }
  },
  {
   "cell_type": "markdown",
   "source": [
    "#### The `outlist` Keyword Argument to `analyze`\n",
    "`outlist` is used to specify data to be written to CSV files during the PSSFSS analysis,\n",
    "in the form of a matrix with one or more rows. Each row starts with a string containing\n",
    "the name of a CSV file; the rest of the row is an invocation of `@outputs` (or the result of\n",
    "such an invocation assigned to a Julia variable).  Here is an example that will create a pair\n",
    "of CSV files, one containing transmission coefficient magnitudes and the other containing\n",
    "reflection coefficient magnitudes (both in dB).  Frequency is also included in the CSV file\n",
    "to facilitate easy plotting:\n",
    "```julia\n",
    "...\n",
    "csvout = [\"transmitted.csv\"  @outputs FGHz s21dB(h,h) s21db(v,v)\n",
    "          \"reflected.csv\"    @outputs FGHz s11dB(h,h) s11dB(v,v) ]\n",
    "...\n",
    "analyze(strata, flist, (θ=0, ϕ=0), outlist=csvout)\n",
    "```\n",
    "The matrix is delineated using\n",
    "[square brackets](https://docs.julialang.org/en/v1/manual/arrays/#man-array-literals).\n",
    "Note that there can be no commas between entries in a row. If more than a single incidence\n",
    "angle had been specified then we would also have wanted to include incidence angles in the\n",
    "CSV files."
   ],
   "metadata": {
    "name": "A slide ",
    "slideshow": {
     "slide_type": "subslide"
    }
   }
  },
  {
   "cell_type": "markdown",
   "source": [
    "#### Using the Result File\n",
    "The result file generated by `analyze` can be used to obtain any quantity available to the `@outputs`\n",
    "macro.  Consider the Blackney meanderline polarizer example presented earlier.  For that run,\n",
    "the result file name was left at its default value \"pssfss.res\".  We can use the `extract_result_file`\n",
    "function to extract results from it as follows:\n",
    "\n",
    "```julia\n",
    "julia> dat = extract_result_file(\"pssfss.res\", @outputs FGHz ar21db(h))\n",
    "25×2 Matrix{Float64}:\n",
    "3.0   6.52976\n",
    "3.25  5.39855\n",
    "3.5   4.32914\n",
    "3.75  3.3334\n",
    "4.0   2.42903\n",
    "4.25  1.64223\n",
    "⋮\n",
    "8.25  1.91583\n",
    "8.5   2.76022\n",
    "8.75  3.87568\n",
    "9.0   5.40385\n",
    "```\n",
    "\n",
    "As illustrated above, the value returned by `extract_result_file` is a\n",
    "two-dimensional array (a `Matrix`), with each column corresponding to a\n",
    "parameter of the `@outputs` macro."
   ],
   "metadata": {
    "name": "A slide ",
    "slideshow": {
     "slide_type": "subslide"
    }
   }
  },
  {
   "cell_type": "markdown",
   "source": [
    "#### Using the `analyze` Function Return Value\n",
    "The variable returned from `analyze` can be used in a similar way to the result file to obtain any quantity\n",
    "available to the `@outputs` macro, but for this purpose we use the `extract_result` function:\n",
    "\n",
    "```julia\n",
    "julia> results = analyze(strata, flist, steering, outlist=outputs);\n",
    "julia> dat = extract_result(results, @outputs FGHz ar21db(h))\n",
    "25×2 Matrix{Float64}:\n",
    "3.0   6.52976\n",
    "3.25  5.39855\n",
    "3.5   4.32914\n",
    "3.75  3.3334\n",
    "4.0   2.42903\n",
    "4.25  1.64223\n",
    "⋮\n",
    "8.25  1.91583\n",
    "8.5   2.76022\n",
    "8.75  3.87568\n",
    "9.0   5.40385\n",
    "```\n",
    "\n",
    "As illustrated above, the value returned by `extract_result` is a two-dimensional array (a `Matrix`),\n",
    "with each column corresponding to a parameter of the `@outputs` macro."
   ],
   "metadata": {}
  },
  {
   "cell_type": "markdown",
   "source": [
    "---\n",
    "\n",
    "*This notebook was generated using [Literate.jl](https://github.com/fredrikekre/Literate.jl).*"
   ],
   "metadata": {}
  }
 ],
 "nbformat_minor": 3,
 "metadata": {
  "language_info": {
   "file_extension": ".jl",
   "mimetype": "application/julia",
   "name": "julia",
   "version": "1.6.1"
  },
  "kernelspec": {
   "name": "julia-1.6",
   "display_name": "Julia 1.6.1",
   "language": "julia"
  }
 },
 "nbformat": 4
}
