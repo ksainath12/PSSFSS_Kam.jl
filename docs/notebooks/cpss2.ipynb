{
 "cells": [
  {
   "cell_type": "markdown",
   "source": [
    "## Meanderline/Strip-Based CPSS\n",
    "This example comes from the same authors as the previous example.  The paper is\n",
    "A. Ericsson and D. Sjöberg, \"Design and Analysis of a Multilayer Meander Line\n",
    "Circular Polarization Selective Structure\", IEEE Trans. Antennas Propagat.,\n",
    "Vol. 65, No. 8, Aug 2017, pp. 4089-4101.\n",
    "The design is similar to that of the previous example except that here, the two $\\pm 45^\\circ$\n",
    "rotated meanderlines are replaced with rectangular strips.\n",
    "This allows us to employ the `diagstrip` element and the `orient` keyword for the\n",
    "`meander` elements to maintain the same, square unit cell for all sheets. By doing this\n",
    "we allow PSSFSS to rigorously account for the inter-sheet coupling using multiple\n",
    "high-order modes in the generalized scattering matrix (GSM) formulation."
   ],
   "metadata": {
    "name": "A slide ",
    "slideshow": {
     "slide_type": "Slide"
    }
   }
  },
  {
   "cell_type": "markdown",
   "source": [
    "We begin by computing the skin depth and sheet resistance for the\n",
    "copper traces.  The conductivity and thickness are as stated in the paper:"
   ],
   "metadata": {}
  },
  {
   "outputs": [],
   "cell_type": "code",
   "source": [
    "# Compute skin depth and sheet resistance:\n",
    "using PSSFSS.Constants: μ₀ # free-space permeability [H/m]\n",
    "f = (10:0.1:20) * 1e9 # frequencies in Hz\n",
    "σ = 58e6 # conductivity of metalization [S/m]\n",
    "t = 18e-6 # metalization thickness [m]\n",
    "Δ = sqrt.(2 ./ (2π*f*σ*μ₀)) # skin depth [m]\n",
    "@show extrema(t./Δ)"
   ],
   "metadata": {},
   "execution_count": null
  },
  {
   "outputs": [],
   "cell_type": "code",
   "source": [
    "Rs = 1 ./ (σ * Δ)\n",
    "@show extrema(Rs)"
   ],
   "metadata": {},
   "execution_count": null
  },
  {
   "cell_type": "markdown",
   "source": [
    "We see that the metal is many skin depths thick (effectively infinitely thick) so that we can use\n",
    "the thick metal surface sheet resistance formula.  Since the latter varies with frequency, we approximate\n",
    "it over the band 10-20 GHz by a value near its mean: 0.032 Ω/□."
   ],
   "metadata": {}
  },
  {
   "cell_type": "markdown",
   "source": [
    "Here is the script that analyzes the design from the referenced paper:"
   ],
   "metadata": {}
  },
  {
   "outputs": [],
   "cell_type": "code",
   "source": [
    "using PSSFSS\n",
    "P = 5.2 # side length of unit square\n",
    "d1 = 2.61 # Inner layer thickness\n",
    "d2 = 3.81 # Outer layer thickness\n",
    "h0 = 2.44 # Inner meanderline dimension (using paper's definition of h)\n",
    "h2 = 2.83 # Outer meanderline dimension (using paper's definition of h)\n",
    "w0x = 0.46 # Inner meanderline line thickness of traces running along x\n",
    "w0y = 0.58 # Inner meanderline line thickness of traces running along y\n",
    "w1 = 0.21 # Rectangular strips width\n",
    "w2x = 0.25   # Outer meanderline line thickness of traces running along x\n",
    "w2y = 0.17 # Outer meanderline line thickness of traces running along y\n",
    "\n",
    "outer(orient) = meander(a=P, b=P, w1=w2y, w2=w2x, h=h2+w2x, units=mm, ntri=600,\n",
    "                        Rsheet=0.032, orient=orient)\n",
    "inner = meander(a=P, b=P, w1=w0y, w2=w0x, h=h0+w0x, units=mm, ntri=600, Rsheet=0.032)\n",
    "strip(orient) = diagstrip(P=P, w=w1, units=mm, Nl=60, Nw=4, orient=orient, Rsheet=0.032)\n",
    "\n",
    "substrate = Layer(width=0.127mm, epsr=2.17, tandel=0.0009)\n",
    "foam(w) = Layer(width=w, epsr=1.043, tandel=0.0017)\n",
    "sheets = [outer(-90), strip(-45), inner, strip(45), outer(90)]\n",
    "strata = [\n",
    "    Layer()\n",
    "    substrate\n",
    "    sheets[1]\n",
    "    foam(d2 * 1mm)\n",
    "    substrate\n",
    "    sheets[2]\n",
    "    foam(d1 * 1mm)\n",
    "    sheets[3]\n",
    "    substrate\n",
    "    foam(d1 * 1mm)\n",
    "    substrate\n",
    "    sheets[4]\n",
    "    foam(d2 * 1mm)\n",
    "    sheets[5]\n",
    "    substrate\n",
    "    Layer() ]\n",
    "steering = (θ=0, ϕ=0)\n",
    "flist = 10:0.1:20\n",
    "\n",
    "results = analyze(strata, flist, steering, logfile=devnull,\n",
    "                  resultfile=devnull, showprogress=false)"
   ],
   "metadata": {},
   "execution_count": null
  },
  {
   "cell_type": "markdown",
   "source": [
    "The PSSFSS run took about 85 seconds on my machine.  Here are plots of the five sheets:"
   ],
   "metadata": {}
  },
  {
   "outputs": [],
   "cell_type": "code",
   "source": [
    "using Plots\n",
    "default()\n",
    "ps = []\n",
    "for k in 1:5\n",
    "    push!(ps, plot(sheets[k], unitcell=true, title=\"Sheet $k\", linecolor=:red))\n",
    "end\n",
    "plot(ps..., layout=5)"
   ],
   "metadata": {},
   "execution_count": null
  },
  {
   "cell_type": "markdown",
   "source": [
    "Notice that for all 5 sheets, the unit cell is a square of constant side length and is unrotated.\n",
    "We can see from the log file (of a previous run where it was not suppressed) that this allows\n",
    "PSSFSS to use additional modes in the GSM cascading procedure:"
   ],
   "metadata": {}
  },
  {
   "cell_type": "markdown",
   "source": [
    "```\n",
    "Starting PSSFSS analysis on 2021-05-26 at 09:54:02.902\n",
    "\n",
    "\n",
    "Dielectric layer information...\n",
    "\n",
    " Layer  Width  units  epsr   tandel   mur  mtandel modes  beta1x  beta1y  beta2x  beta2y\n",
    " ----- ------------- ------- ------ ------- ------ ----- ------- ------- ------- -------\n",
    "     1    0.0000  mm    1.00 0.0000    1.00 0.0000     2  1208.3     0.0     0.0  1208.3\n",
    "     2    0.1270  mm    2.17 0.0009    1.00 0.0000     0     0.0     0.0     0.0     0.0\n",
    " ==================  Sheet   1  ========================  1208.3     0.0     0.0  1208.3\n",
    "     3    3.8100  mm    1.04 0.0017    1.00 0.0000    10  1208.3     0.0     0.0  1208.3\n",
    "     4    0.1270  mm    2.17 0.0009    1.00 0.0000     0     0.0     0.0     0.0     0.0\n",
    " ==================  Sheet   2  ========================  1208.3     0.0     0.0  1208.3\n",
    "     5    2.6100  mm    1.04 0.0017    1.00 0.0000    18  1208.3     0.0     0.0  1208.3\n",
    " ==================  Sheet   3  ========================  1208.3     0.0     0.0  1208.3\n",
    "     6    0.1270  mm    2.17 0.0009    1.00 0.0000     0     0.0     0.0     0.0     0.0\n",
    "     7    2.6100  mm    1.04 0.0017    1.00 0.0000    18  1208.3     0.0     0.0  1208.3\n",
    "     8    0.1270  mm    2.17 0.0009    1.00 0.0000     0     0.0     0.0     0.0     0.0\n",
    " ==================  Sheet   4  ========================  1208.3     0.0     0.0  1208.3\n",
    "     9    3.8100  mm    1.04 0.0017    1.00 0.0000    10  1208.3     0.0     0.0  1208.3\n",
    " ==================  Sheet   5  ========================  1208.3     0.0     0.0  1208.3\n",
    "    10    0.1270  mm    2.17 0.0009    1.00 0.0000     0     0.0     0.0     0.0     0.0\n",
    "    11    0.0000  mm    1.00 0.0000    1.00 0.0000     2  1208.3     0.0     0.0  1208.3\n",
    "...\n",
    "```"
   ],
   "metadata": {}
  },
  {
   "cell_type": "markdown",
   "source": [
    "Layers 3 and 9 were assigned 10 modes each.  Layers 5 and 7, being thinner were assigned\n",
    "18 modes each. The numbers of modes are determined automatically by PSSFSS to ensure\n",
    "accurate cascading."
   ],
   "metadata": {}
  },
  {
   "cell_type": "markdown",
   "source": [
    "Here are comparison plots of PSSFSS versus highly converged CST predictions digitized from\n",
    "plots presented in the paper:"
   ],
   "metadata": {}
  },
  {
   "outputs": [],
   "cell_type": "code",
   "source": [
    "using Plots, DelimitedFiles\n",
    "RLl = -extract_result(results, @outputs s11db(l,l))\n",
    "AR11l = extract_result(results, @outputs ar11db(l))\n",
    "IL21r = -extract_result(results, @outputs s21db(r,r))\n",
    "AR21r = extract_result(results, @outputs ar21db(r))\n",
    "\n",
    "default(lw=2, xlabel=\"Frequency (GHz)\", xlim=(10,20), xtick=10:2:20,\n",
    "        framestyle=:box, gridalpha=0.3)\n",
    "\n",
    "plot(flist,RLl,title=\"LHCP → LHCP Return Loss\", label=\"PSSFSS\",\n",
    "         ylabel=\"Return Loss (dB)\", ylim=(0,3), ytick=0:0.5:3)\n",
    "cst = readdlm(\"../src/assets/ericsson_cpss_digitized_rllhcp.csv\", ',')\n",
    "plot!(cst[:,1], cst[:,2], label=\"CST\")"
   ],
   "metadata": {},
   "execution_count": null
  },
  {
   "outputs": [],
   "cell_type": "code",
   "source": [
    "plot(flist,AR11l,title=\"LHCP → LHCP Reflected Axial Ratio\", label=\"PSSFSS\",\n",
    "         ylabel=\"Axial Ratio (dB)\", ylim=(0,3), ytick=0:0.5:3)\n",
    "cst = readdlm(\"../src/assets/ericsson_cpss_digitized_arlhcp.csv\", ',')\n",
    "plot!(cst[:,1], cst[:,2], label=\"CST\")"
   ],
   "metadata": {},
   "execution_count": null
  },
  {
   "outputs": [],
   "cell_type": "code",
   "source": [
    "plot(flist,AR21r,title=\"RHCP → RHCP Transmitted Axial Ratio\", label=\"PSSFSS\",\n",
    "     ylabel=\"Axial Ratio (dB)\", ylim=(0,3), ytick=0:0.5:3)\n",
    "cst = readdlm(\"../src/assets/ericsson_cpss_digitized_arrhcp.csv\", ',')\n",
    "plot!(cst[:,1], cst[:,2], label=\"CST\")"
   ],
   "metadata": {},
   "execution_count": null
  },
  {
   "outputs": [],
   "cell_type": "code",
   "source": [
    "plot(flist,IL21r,title=\"RHCP → RHCP Insertion Loss\", label=\"PSSFSS\",\n",
    "         ylabel=\"Insertion Loss (dB)\", ylim=(0,3), ytick=0:0.5:3)\n",
    "cst = readdlm(\"../src/assets/ericsson_cpss_digitized_ilrhcp.csv\", ',')\n",
    "plot!(cst[:,1], cst[:,2], label=\"CST\")"
   ],
   "metadata": {},
   "execution_count": null
  },
  {
   "cell_type": "markdown",
   "source": [
    "Differences between the PSSFSS and CST predictions are attributed to the fact that the\n",
    "metalization thickness of 18 μm was included in the CST model but cannot be accommodated by PSSFSS."
   ],
   "metadata": {}
  },
  {
   "cell_type": "markdown",
   "source": [
    "---\n",
    "\n",
    "*This notebook was generated using [Literate.jl](https://github.com/fredrikekre/Literate.jl).*"
   ],
   "metadata": {}
  }
 ],
 "nbformat_minor": 3,
 "metadata": {
  "language_info": {
   "file_extension": ".jl",
   "mimetype": "application/julia",
   "name": "julia",
   "version": "1.7.2"
  },
  "kernelspec": {
   "name": "julia-1.7",
   "display_name": "Julia 1.7.2",
   "language": "julia"
  }
 },
 "nbformat": 4
}
