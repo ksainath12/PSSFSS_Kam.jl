{
 "cells": [
  {
   "cell_type": "markdown",
   "source": [
    "## Square Loop Absorber\n",
    "This example is from Figure 7 of Costa and Monorchio: \"A frequency selective\n",
    "radome with wideband absorbing properties\", *IEEE Trans. AP-S*,\n",
    "Vol. 60, no. 6, June 2012, pp. 2740--2747.  It shows how one can use the `polyring`\n",
    "function to model square loop elements.  Three different designs are examined\n",
    "that employ different loop thicknesses and different values of sheet resistance.\n",
    "We compare the reflection coefficient magnitudes computed by PSSFSS with those digitized\n",
    "from the cited figure when the sheet is suspended\n",
    "5 mm above a ground plane, hence we will also make use of the `pecsheet` function."
   ],
   "metadata": {
    "name": "A slide ",
    "slideshow": {
     "slide_type": "subslide"
    }
   }
  },
  {
   "outputs": [],
   "cell_type": "code",
   "source": [
    "using PSSFSS, Plots, DelimitedFiles\n",
    "D = 11 # Period of square lattice (mm)\n",
    "r_outer = √2/2 * D/8 * [5,6,7] # radii of square outer vertices\n",
    "thickness = D/16 * [1,2,3]\n",
    "r_inner = r_outer - √2 * thickness  # radii of square inner vertices\n",
    "Rs = [15,40,70] # Sheet resistance (Ω/□)\n",
    "labels = [\"Thin\", \"Medium\", \"Thick\"]\n",
    "colors = [:green, :blue, :red]\n",
    "p = plot(title=\"Costa Absorber\", xlim=(0,25),ylim=(-35,0),xtick=0:5:25,ytick=-35:5:0,\n",
    "         xlabel=\"Frequency (GHz)\", ylabel=\"Reflection Magnitude (dB)\", legend=:bottomleft)\n",
    "ps = []\n",
    "for (i,(ri, ro, label, color, R)) in enumerate(zip(r_inner, r_outer, labels, colors, Rs))\n",
    "    sheet = polyring(sides=4, s1=[D, 0], s2=[0, D], ntri=700, orient=45,\n",
    "                     a=[ri], b=[ro], Rsheet=R, units=mm)\n",
    "    push!(ps, plot(sheet, unitcell=true, title=label, lc=color))\n",
    "    strata = [Layer()\n",
    "              sheet\n",
    "              Layer(width=5mm)\n",
    "              pecsheet() # Perfectly conducting ground plane\n",
    "              Layer()]\n",
    "    results = analyze(strata, 1:0.2:25, (ϕ=0, θ=0), showprogress=false,\n",
    "                      resultfile=devnull, logfile=devnull)\n",
    "    data = extract_result(results, @outputs FGHz s11dB(h,h))\n",
    "    plot!(p, data[:,1], data[:,2], label=\"PSSFSS \"*label, lc=color)\n",
    "    dat = readdlm(\"../src/assets/costa_2014_\" * lowercase(label) * \"_reflection.csv\", ',')\n",
    "    plot!(p, dat[:,1], dat[:,2], label=\"Costa \"*label, ls=:dash, lc=color)\n",
    "end\n",
    "plot(ps..., layout=(1,3))"
   ],
   "metadata": {},
   "execution_count": null
  },
  {
   "cell_type": "markdown",
   "source": [
    "This run takes about 85 seconds on my machine."
   ],
   "metadata": {}
  },
  {
   "outputs": [],
   "cell_type": "code",
   "source": [
    "p"
   ],
   "metadata": {},
   "execution_count": null
  },
  {
   "cell_type": "markdown",
   "source": [
    "It is useful to take a look at the log file created by PSSFSS for the last run above:\n",
    "```\n",
    "Starting PSSFSS analysis on 2021-05-05 at 15:22:09.955\n",
    "\n",
    "\n",
    "Dielectric layer information...\n",
    "\n",
    "Layer  Width  units  epsr   tandel   mur  mtandel modes  beta1x  beta1y  beta2x  beta2y\n",
    "----- ------------- ------- ------ ------- ------ ----- ------- ------- ------- -------\n",
    "    1    0.0000  mm    1.00 0.0000    1.00 0.0000     2   571.2     0.0     0.0   571.2\n",
    "==================  Sheet   1  ========================   571.2     0.0     0.0   571.2\n",
    "    2    5.0000  mm    1.00 0.0000    1.00 0.0000    42   571.2     0.0     0.0   571.2\n",
    "==================  Sheet   2  ========================     0.0     0.0     0.0     0.0\n",
    "    3    0.0000  mm    1.00 0.0000    1.00 0.0000     2   571.2     0.0     0.0   571.2\n",
    "\n",
    "\n",
    "\n",
    "PSS/FSS sheet information...\n",
    "\n",
    "Sheet  Loc         Style      Rot  J/M Faces Edges Nodes Unknowns  NUFP\n",
    "-----  ---  ---------------- ----- --- ----- ----- ----- -------- ------\n",
    "  1     1          polyring   0.0  J    753  1201   448    1058  567009\n",
    "  2     2              NULL   0.0  E      0     0     0       0       0\n",
    "\n",
    "...\n",
    "```"
   ],
   "metadata": {}
  },
  {
   "cell_type": "markdown",
   "source": [
    "Note from the dielectric layer report that there are 42 modes defined in the region between the\n",
    "ground plane and the FSS sheet.  This is the number of modes selected by the code to include\n",
    "in the generalized scattering matrix formulation to properly account for electromagnetic coupling\n",
    "between the two surfaces. If the 5 mm spacing were increased to, say, 7 mm then fewer modes\n",
    "would be needed.  Also note in the FSS sheet information that `NUFP` (the number of unique face pairs)\n",
    "is exactly equal to the number of faces squared ($567009 = 753^2$), a consequence of the unstructured\n",
    "triangulation used for a `polyring`."
   ],
   "metadata": {}
  },
  {
   "cell_type": "markdown",
   "source": [
    "### Conclusion\n",
    "PSSFSS results agree very well with those of the paper, except for the medium\n",
    "width loop, where the agreement is not quite as good.  The reason for this is\n",
    "not known."
   ],
   "metadata": {}
  },
  {
   "cell_type": "markdown",
   "source": [
    "---\n",
    "\n",
    "*This notebook was generated using [Literate.jl](https://github.com/fredrikekre/Literate.jl).*"
   ],
   "metadata": {}
  }
 ],
 "nbformat_minor": 3,
 "metadata": {
  "language_info": {
   "file_extension": ".jl",
   "mimetype": "application/julia",
   "name": "julia",
   "version": "1.6.1"
  },
  "kernelspec": {
   "name": "julia-1.6",
   "display_name": "Julia 1.6.1",
   "language": "julia"
  }
 },
 "nbformat": 4
}
