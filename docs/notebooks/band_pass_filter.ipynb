{
 "cells": [
  {
   "cell_type": "markdown",
   "source": [
    "## Loaded Cross Band Pass Filter\n",
    "This example is originally from Fig. 7.9 of B. Munk, *Frequency Selective Surfaces,\n",
    "Theory and Design,* John Wiley and Sons, 2000.  The same case was analyzed in L. Li,\n",
    "D. H. Werner et al, \"A Model-Based Parameter Estimation Technique for\n",
    "Wide-Band Interpolation of Periodic Moment Method Impedance Matrices With Application to\n",
    "Genetic Algorithm Optimization of Frequency Selective Surfaces\", *IEEE Trans. AP-S*,\n",
    "vol. 54, no. 3, March 2006, pp. 908-924, Fig. 6.  Unfortunately, in neither reference\n",
    "are the dimensions of the loaded cross stated, except for the square unit cell\n",
    "period of 8.61 mm.  I estimated the dimensions from the sketch in Fig. 6 of the second\n",
    "reference.  To provide a reliable comparison, I enlisted my colleague\n",
    "[Mike Maybell](https://www.linkedin.com/in/mike-maybell-308b77ba),\n",
    "principal of Planet Earth Communications, who generously offered to\n",
    "analyze the filter using\n",
    "[CST Microwave Studio](https://www.3ds.com/products-services/simulia/products/cst-studio-suite/),\n",
    "a rigorous commercial finite volume electromagnetic solver."
   ],
   "metadata": {
    "name": "A slide ",
    "slideshow": {
     "slide_type": "subslide"
    }
   }
  },
  {
   "cell_type": "markdown",
   "source": [
    "Two identical loaded cross slot-type elements are separated by a 6 mm layer of dielectric\n",
    "constant 1.9.  Outboard of each sheet is a 1.1 cm layer of dielectric constant 1.3.\n",
    "The closely spaced sheets are a good test of the generalized scattering formulation\n",
    "implemented in PSSFSS.  The sheet geometry is shown below.  Remember that the entire\n",
    "sheet is metalized *except* for the region of the triangulation."
   ],
   "metadata": {}
  },
  {
   "outputs": [],
   "cell_type": "code",
   "source": [
    "using Plots, PSSFSS\n",
    "sheet = loadedcross(class='M', w=0.023, L1=0.8, L2=0.14,\n",
    "            s1=[0.861,0.0], s2=[0.0,0.861], ntri=600, units=cm)\n",
    "plot(sheet, unitcell=true)"
   ],
   "metadata": {},
   "execution_count": null
  },
  {
   "outputs": [],
   "cell_type": "code",
   "source": [
    "steering = (ϕ=0, θ=0)\n",
    "strata = [  Layer()\n",
    "            Layer(ϵᵣ=1.3, width=1.1cm)\n",
    "            sheet\n",
    "            Layer(ϵᵣ=1.9, width=0.6cm)\n",
    "            sheet\n",
    "            Layer(ϵᵣ=1.3, width=1.1cm)\n",
    "            Layer()  ]\n",
    "flist = 1:0.1:20\n",
    "results = analyze(strata, flist, steering, resultfile=devnull,\n",
    "                  logfile=devnull, showprogress=false)\n",
    "data = extract_result(results, @outputs FGHz s21db(v,v) s11db(v,v))\n",
    "using DelimitedFiles\n",
    "dat = readdlm(\"../src/assets/MaybellLoadedCrossResults.csv\", ',', skipstart=1)\n",
    "p = plot(xlabel=\"Frequency (GHz)\", ylabel=\"Reflection Coefficient (dB)\",\n",
    "         legend=:left, title=\"Loaded Cross Band-Pass Filter\", xtick=0:2:20, ytick=-30:5:0,\n",
    "         xlim=(-0.1,20.1), ylim=(-35,0.1))\n",
    "plot!(p, data[:,1], data[:,3], label=\"PSSFSS\", color=:red)\n",
    "plot!(p, dat[:,1], dat[:,2], label=\"CST\", color=:blue)"
   ],
   "metadata": {},
   "execution_count": null
  },
  {
   "outputs": [],
   "cell_type": "code",
   "source": [
    "p2 = plot(xlabel=\"Frequency (GHz)\", ylabel=\"Transmission Coefficient (dB)\",\n",
    "          legend=:bottom, title=\"Loaded Cross Band-Pass Filter\", xtick=0:2:20, ytick=-80:10:0,\n",
    "         xlim=(-0.1,20.1), ylim=(-80,0.1))\n",
    "plot!(p2, data[:,1], data[:,2], label=\"PSSFSS\", color=:red)\n",
    "plot!(p2, dat[:,1], dat[:,4], label=\"CST\", color=:blue)"
   ],
   "metadata": {},
   "execution_count": null
  },
  {
   "cell_type": "markdown",
   "source": [
    "This analysis takes about 90 seconds for 191 frequencies on my machine.  Note that\n",
    "rather than including two separate invocations of the `loadedcross` function when\n",
    "defining the strata, I referenced the same sheet object in the two different locations.\n",
    "This allows PSSFSS to recognize that the triangulations are identical, and to exploit\n",
    "this fact in making the analysis more efficient.  In fact, if both sheets had been embedded\n",
    "in similar dielectric claddings (in the same order), then the GSM (generalized scattering matrix)\n",
    "computed for the sheet in its first location could be reused without additional computation for its\n",
    "second location.  In this case, though, only the spatial integrals are re-used.  For an oblique\n",
    "incidence case, computing the spatial integrals is often the most expensive part of the analysis,\n",
    "so the savings from reusing the same sheet definition can be substantial."
   ],
   "metadata": {}
  },
  {
   "cell_type": "markdown",
   "source": [
    "### Conclusion\n",
    "Very good agreement is obtained versus CST over a large dynamic range."
   ],
   "metadata": {}
  },
  {
   "cell_type": "markdown",
   "source": [
    "---\n",
    "\n",
    "*This notebook was generated using [Literate.jl](https://github.com/fredrikekre/Literate.jl).*"
   ],
   "metadata": {}
  }
 ],
 "nbformat_minor": 3,
 "metadata": {
  "language_info": {
   "file_extension": ".jl",
   "mimetype": "application/julia",
   "name": "julia",
   "version": "1.6.1"
  },
  "kernelspec": {
   "name": "julia-1.6",
   "display_name": "Julia 1.6.1",
   "language": "julia"
  }
 },
 "nbformat": 4
}
